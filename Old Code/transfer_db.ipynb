{
 "cells": [
  {
   "cell_type": "code",
   "execution_count": 1,
   "metadata": {},
   "outputs": [],
   "source": [
    "import pandas as pd\n",
    "import sqlalchemy\n",
    "import ast\n",
    "import json \n",
    "from sqlalchemy import create_engine, MetaData, Table, Column, Integer, String, Text, inspect"
   ]
  },
  {
   "cell_type": "code",
   "execution_count": 2,
   "metadata": {},
   "outputs": [],
   "source": [
    "engine = sqlalchemy.create_engine('sqlite:///verivox_thg.db')"
   ]
  },
  {
   "cell_type": "code",
   "execution_count": 3,
   "metadata": {},
   "outputs": [],
   "source": [
    "metadata = MetaData()"
   ]
  },
  {
   "cell_type": "code",
   "execution_count": 4,
   "metadata": {},
   "outputs": [],
   "source": [
    "# Define your table\n",
    "thg = Table(\n",
    "    'thg', metadata,\n",
    "    Column('id', Integer, primary_key=True, autoincrement=True),\n",
    "    Column('Datum', Text),\n",
    "    Column('Uhrzeit', Text),\n",
    "    Column('Provider_id', Integer),\n",
    "    Column('Provider', Text),\n",
    "    Column('Preis', Integer),\n",
    "    Column('Bezahlmodel', Text),\n",
    "    Column('Eigenschaft', Text),\n",
    "    Column('raw_data', Text)\n",
    ")"
   ]
  },
  {
   "cell_type": "code",
   "execution_count": 5,
   "metadata": {},
   "outputs": [],
   "source": [
    "inspector = inspect(engine)\n",
    "if not inspector.has_table(thg.name):\n",
    "    # Create the table\n",
    "    metadata.create_all(engine, tables=[thg])\n"
   ]
  },
  {
   "cell_type": "code",
   "execution_count": 6,
   "metadata": {},
   "outputs": [],
   "source": [
    "engine_old = sqlalchemy.create_engine('sqlite:///old_verivox_thg.db')"
   ]
  },
  {
   "cell_type": "code",
   "execution_count": 7,
   "metadata": {},
   "outputs": [],
   "source": [
    "with engine_old.connect() as connection:\n",
    "    df_raw = pd.read_sql_table('thg', connection) "
   ]
  },
  {
   "cell_type": "code",
   "execution_count": 8,
   "metadata": {},
   "outputs": [],
   "source": [
    "df_raw[\"Eigenschaft\"] = None"
   ]
  },
  {
   "cell_type": "code",
   "execution_count": 9,
   "metadata": {},
   "outputs": [],
   "source": [
    "df_raw = df_raw[[\"id\", \"Datum\", \"Uhrzeit\", \"Provider_id\", \"Provider\", \"Preis\", \"Bezahlmodel\", \"Eigenschaft\", \"raw_data\"]]"
   ]
  },
  {
   "cell_type": "code",
   "execution_count": 10,
   "metadata": {},
   "outputs": [],
   "source": [
    "df_raw.drop('id', axis=1, inplace=True)"
   ]
  },
  {
   "cell_type": "code",
   "execution_count": 11,
   "metadata": {},
   "outputs": [],
   "source": [
    "# drop duplicates based on all entries except time, because some dates have multiple entries for different times\n",
    "df_raw.drop_duplicates(subset=['Datum', 'Provider_id', 'Provider', 'Preis', 'Bezahlmodel', 'Eigenschaft', 'raw_data'], inplace=True)"
   ]
  },
  {
   "cell_type": "code",
   "execution_count": 12,
   "metadata": {},
   "outputs": [],
   "source": [
    "df_raw['raw_data'] = df_raw['raw_data'].apply(lambda x: json.dumps(ast.literal_eval(x)))"
   ]
  },
  {
   "cell_type": "code",
   "execution_count": 13,
   "metadata": {},
   "outputs": [],
   "source": [
    "df_raw['Datum'] = pd.to_datetime(df_raw['Datum'])\n"
   ]
  },
  {
   "cell_type": "code",
   "execution_count": 14,
   "metadata": {},
   "outputs": [],
   "source": [
    "df = df_raw.sort_values(by=['Datum']).reset_index(drop=True)"
   ]
  },
  {
   "cell_type": "code",
   "execution_count": 15,
   "metadata": {},
   "outputs": [],
   "source": [
    "df['Datum'] = df['Datum'].dt.strftime(\"%Y-%m-%d\")"
   ]
  },
  {
   "cell_type": "code",
   "execution_count": 16,
   "metadata": {},
   "outputs": [],
   "source": [
    "df['Eigenschaft'] = df.apply(lambda df: ', '.join([i['value'] for i in json.loads(df['raw_data'])['keyMetrics'] if \"Auszahlung \" in i['value']]),\n",
    "                             axis=1)"
   ]
  },
  {
   "cell_type": "code",
   "execution_count": 17,
   "metadata": {},
   "outputs": [],
   "source": [
    "with engine.connect() as connection:\n",
    "    df.to_sql('thg', connection, if_exists='append', index = False)"
   ]
  },
  {
   "cell_type": "code",
   "execution_count": 18,
   "metadata": {},
   "outputs": [],
   "source": [
    "# Validate the new database\n",
    "engine = sqlalchemy.create_engine('sqlite:///verivox_thg.db')\n",
    "\n",
    "with engine.connect() as connection:\n",
    "    df_val = pd.read_sql_table('thg', connection) "
   ]
  },
  {
   "cell_type": "code",
   "execution_count": 19,
   "metadata": {},
   "outputs": [
    {
     "data": {
      "text/html": [
       "<div>\n",
       "<style scoped>\n",
       "    .dataframe tbody tr th:only-of-type {\n",
       "        vertical-align: middle;\n",
       "    }\n",
       "\n",
       "    .dataframe tbody tr th {\n",
       "        vertical-align: top;\n",
       "    }\n",
       "\n",
       "    .dataframe thead th {\n",
       "        text-align: right;\n",
       "    }\n",
       "</style>\n",
       "<table border=\"1\" class=\"dataframe\">\n",
       "  <thead>\n",
       "    <tr style=\"text-align: right;\">\n",
       "      <th></th>\n",
       "      <th>id</th>\n",
       "      <th>Datum</th>\n",
       "      <th>Uhrzeit</th>\n",
       "      <th>Provider_id</th>\n",
       "      <th>Provider</th>\n",
       "      <th>Preis</th>\n",
       "      <th>Bezahlmodel</th>\n",
       "      <th>Eigenschaft</th>\n",
       "      <th>raw_data</th>\n",
       "    </tr>\n",
       "  </thead>\n",
       "  <tbody>\n",
       "    <tr>\n",
       "      <th>0</th>\n",
       "      <td>1</td>\n",
       "      <td>2022-07-20</td>\n",
       "      <td>20:44</td>\n",
       "      <td>67490.0</td>\n",
       "      <td>emobility.energy</td>\n",
       "      <td>325</td>\n",
       "      <td>fixflex</td>\n",
       "      <td>Auszahlung in 8 bis 12 Wochen</td>\n",
       "      <td>{\"id\": \"67491\", \"type\": \"offerBox\", \"product\":...</td>\n",
       "    </tr>\n",
       "    <tr>\n",
       "      <th>1</th>\n",
       "      <td>2</td>\n",
       "      <td>2022-07-20</td>\n",
       "      <td>20:44</td>\n",
       "      <td>67557.0</td>\n",
       "      <td>Quotando</td>\n",
       "      <td>0</td>\n",
       "      <td>flex</td>\n",
       "      <td>Auszahlung in 10 bis 12 Wochen</td>\n",
       "      <td>{\"id\": \"67558\", \"type\": \"offerBox\", \"product\":...</td>\n",
       "    </tr>\n",
       "    <tr>\n",
       "      <th>2</th>\n",
       "      <td>3</td>\n",
       "      <td>2022-07-20</td>\n",
       "      <td>20:44</td>\n",
       "      <td>67560.0</td>\n",
       "      <td>Quotlix</td>\n",
       "      <td>350</td>\n",
       "      <td>fix</td>\n",
       "      <td>Auszahlung in 8 bis 12 Wochen</td>\n",
       "      <td>{\"id\": \"67559\", \"type\": \"offerBox\", \"product\":...</td>\n",
       "    </tr>\n",
       "    <tr>\n",
       "      <th>3</th>\n",
       "      <td>4</td>\n",
       "      <td>2022-07-20</td>\n",
       "      <td>20:44</td>\n",
       "      <td>67562.0</td>\n",
       "      <td>smartificate</td>\n",
       "      <td>300</td>\n",
       "      <td>fix</td>\n",
       "      <td>Auszahlung in 8 bis 12 Wochen</td>\n",
       "      <td>{\"id\": \"67561\", \"type\": \"offerBox\", \"product\":...</td>\n",
       "    </tr>\n",
       "    <tr>\n",
       "      <th>4</th>\n",
       "      <td>5</td>\n",
       "      <td>2022-07-20</td>\n",
       "      <td>20:44</td>\n",
       "      <td>1533.0</td>\n",
       "      <td>Stadtwerke Merzig</td>\n",
       "      <td>300</td>\n",
       "      <td>fix</td>\n",
       "      <td>Auszahlung in 12 Wochen</td>\n",
       "      <td>{\"id\": \"67563\", \"type\": \"offerBox\", \"product\":...</td>\n",
       "    </tr>\n",
       "    <tr>\n",
       "      <th>...</th>\n",
       "      <td>...</td>\n",
       "      <td>...</td>\n",
       "      <td>...</td>\n",
       "      <td>...</td>\n",
       "      <td>...</td>\n",
       "      <td>...</td>\n",
       "      <td>...</td>\n",
       "      <td>...</td>\n",
       "      <td>...</td>\n",
       "    </tr>\n",
       "    <tr>\n",
       "      <th>28600</th>\n",
       "      <td>28601</td>\n",
       "      <td>2024-06-29</td>\n",
       "      <td>04:57</td>\n",
       "      <td>67516.0</td>\n",
       "      <td>Elektrovorteil</td>\n",
       "      <td>100</td>\n",
       "      <td>fix</td>\n",
       "      <td>Auszahlung in 8 bis 12 Wochen</td>\n",
       "      <td>{\"id\": \"65b775583f604\", \"type\": \"offerBox\", \"p...</td>\n",
       "    </tr>\n",
       "    <tr>\n",
       "      <th>28601</th>\n",
       "      <td>28602</td>\n",
       "      <td>2024-06-29</td>\n",
       "      <td>04:57</td>\n",
       "      <td>67516.0</td>\n",
       "      <td>Elektrovorteil</td>\n",
       "      <td>360</td>\n",
       "      <td>flex</td>\n",
       "      <td>Auszahlung in 8 bis 12 Wochen</td>\n",
       "      <td>{\"id\": \"65b777a5228f5\", \"type\": \"offerBox\", \"p...</td>\n",
       "    </tr>\n",
       "    <tr>\n",
       "      <th>28602</th>\n",
       "      <td>28603</td>\n",
       "      <td>2024-06-29</td>\n",
       "      <td>04:57</td>\n",
       "      <td>67516.0</td>\n",
       "      <td>Elektrovorteil</td>\n",
       "      <td>80</td>\n",
       "      <td>direct</td>\n",
       "      <td>Auszahlung in 5 Tagen</td>\n",
       "      <td>{\"id\": \"65c08f69677cd\", \"type\": \"offerBox\", \"p...</td>\n",
       "    </tr>\n",
       "    <tr>\n",
       "      <th>28603</th>\n",
       "      <td>28604</td>\n",
       "      <td>2024-06-29</td>\n",
       "      <td>04:57</td>\n",
       "      <td>67579.0</td>\n",
       "      <td>wirkaufendeinethg.de</td>\n",
       "      <td>100</td>\n",
       "      <td>fixflex</td>\n",
       "      <td>Auszahlung in 8 bis 12 Wochen</td>\n",
       "      <td>{\"id\": \"63c6a8605c4c6\", \"type\": \"offerBox\", \"p...</td>\n",
       "    </tr>\n",
       "    <tr>\n",
       "      <th>28604</th>\n",
       "      <td>28605</td>\n",
       "      <td>2024-06-29</td>\n",
       "      <td>04:57</td>\n",
       "      <td>68562.0</td>\n",
       "      <td>Hoyer</td>\n",
       "      <td>50</td>\n",
       "      <td>fix</td>\n",
       "      <td>Auszahlung in 8 bis 12 Wochen</td>\n",
       "      <td>{\"id\": \"6551f72d9af05\", \"type\": \"offerBox\", \"p...</td>\n",
       "    </tr>\n",
       "  </tbody>\n",
       "</table>\n",
       "<p>28605 rows × 9 columns</p>\n",
       "</div>"
      ],
      "text/plain": [
       "          id       Datum Uhrzeit  Provider_id              Provider  Preis  \\\n",
       "0          1  2022-07-20   20:44      67490.0      emobility.energy    325   \n",
       "1          2  2022-07-20   20:44      67557.0              Quotando      0   \n",
       "2          3  2022-07-20   20:44      67560.0               Quotlix    350   \n",
       "3          4  2022-07-20   20:44      67562.0          smartificate    300   \n",
       "4          5  2022-07-20   20:44       1533.0     Stadtwerke Merzig    300   \n",
       "...      ...         ...     ...          ...                   ...    ...   \n",
       "28600  28601  2024-06-29   04:57      67516.0        Elektrovorteil    100   \n",
       "28601  28602  2024-06-29   04:57      67516.0        Elektrovorteil    360   \n",
       "28602  28603  2024-06-29   04:57      67516.0        Elektrovorteil     80   \n",
       "28603  28604  2024-06-29   04:57      67579.0  wirkaufendeinethg.de    100   \n",
       "28604  28605  2024-06-29   04:57      68562.0                 Hoyer     50   \n",
       "\n",
       "      Bezahlmodel                     Eigenschaft  \\\n",
       "0         fixflex   Auszahlung in 8 bis 12 Wochen   \n",
       "1            flex  Auszahlung in 10 bis 12 Wochen   \n",
       "2             fix   Auszahlung in 8 bis 12 Wochen   \n",
       "3             fix   Auszahlung in 8 bis 12 Wochen   \n",
       "4             fix         Auszahlung in 12 Wochen   \n",
       "...           ...                             ...   \n",
       "28600         fix   Auszahlung in 8 bis 12 Wochen   \n",
       "28601        flex   Auszahlung in 8 bis 12 Wochen   \n",
       "28602      direct           Auszahlung in 5 Tagen   \n",
       "28603     fixflex   Auszahlung in 8 bis 12 Wochen   \n",
       "28604         fix   Auszahlung in 8 bis 12 Wochen   \n",
       "\n",
       "                                                raw_data  \n",
       "0      {\"id\": \"67491\", \"type\": \"offerBox\", \"product\":...  \n",
       "1      {\"id\": \"67558\", \"type\": \"offerBox\", \"product\":...  \n",
       "2      {\"id\": \"67559\", \"type\": \"offerBox\", \"product\":...  \n",
       "3      {\"id\": \"67561\", \"type\": \"offerBox\", \"product\":...  \n",
       "4      {\"id\": \"67563\", \"type\": \"offerBox\", \"product\":...  \n",
       "...                                                  ...  \n",
       "28600  {\"id\": \"65b775583f604\", \"type\": \"offerBox\", \"p...  \n",
       "28601  {\"id\": \"65b777a5228f5\", \"type\": \"offerBox\", \"p...  \n",
       "28602  {\"id\": \"65c08f69677cd\", \"type\": \"offerBox\", \"p...  \n",
       "28603  {\"id\": \"63c6a8605c4c6\", \"type\": \"offerBox\", \"p...  \n",
       "28604  {\"id\": \"6551f72d9af05\", \"type\": \"offerBox\", \"p...  \n",
       "\n",
       "[28605 rows x 9 columns]"
      ]
     },
     "execution_count": 19,
     "metadata": {},
     "output_type": "execute_result"
    }
   ],
   "source": [
    "df_val"
   ]
  }
 ],
 "metadata": {
  "kernelspec": {
   "display_name": "data_science",
   "language": "python",
   "name": "python3"
  },
  "language_info": {
   "codemirror_mode": {
    "name": "ipython",
    "version": 3
   },
   "file_extension": ".py",
   "mimetype": "text/x-python",
   "name": "python",
   "nbconvert_exporter": "python",
   "pygments_lexer": "ipython3",
   "version": "3.12.3"
  }
 },
 "nbformat": 4,
 "nbformat_minor": 2
}
