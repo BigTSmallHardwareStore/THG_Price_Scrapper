{
 "cells": [
  {
   "attachments": {},
   "cell_type": "markdown",
   "id": "ceaa09f8",
   "metadata": {
    "papermill": {
     "duration": 0.007353,
     "end_time": "2022-12-28T12:22:17.679294",
     "exception": false,
     "start_time": "2022-12-28T12:22:17.671941",
     "status": "completed"
    },
    "tags": []
   },
   "source": [
    "# Data Cleaning and analysation of the German GHG quota"
   ]
  },
  {
   "attachments": {},
   "cell_type": "markdown",
   "id": "f197c5fe",
   "metadata": {
    "papermill": {
     "duration": 0.006125,
     "end_time": "2022-12-28T12:22:17.691977",
     "exception": false,
     "start_time": "2022-12-28T12:22:17.685852",
     "status": "completed"
    },
    "tags": []
   },
   "source": [
    "The last notebook deals with data cleaning and analysis of the scraped data.\n",
    "\n",
    "The analysis is divided into providers that did not change their prices and those that did.\n",
    "\n",
    "If you have a suggestion for improvement, please let me know."
   ]
  },
  {
   "cell_type": "code",
   "execution_count": 59,
   "id": "d2b6d5cf",
   "metadata": {
    "papermill": {
     "duration": 1.663648,
     "end_time": "2022-12-28T12:22:19.361860",
     "exception": false,
     "start_time": "2022-12-28T12:22:17.698212",
     "status": "completed"
    },
    "tags": []
   },
   "outputs": [],
   "source": [
    "import pandas as pd\n",
    "import numpy as np\n",
    "import plotly.express as px\n",
    "import sqlalchemy\n",
    "import ast\n",
    "import json\n",
    "import warnings\n",
    "warnings.filterwarnings('ignore')\n",
    "import datetime\n",
    "import os"
   ]
  },
  {
   "cell_type": "code",
   "execution_count": 60,
   "id": "a85fda5f",
   "metadata": {},
   "outputs": [],
   "source": [
    "actual_month = datetime.datetime.today().strftime('%B')"
   ]
  },
  {
   "cell_type": "code",
   "execution_count": 61,
   "id": "0d896689",
   "metadata": {},
   "outputs": [],
   "source": [
    "if not os.path.exists(\"Monatsberichte\"):\n",
    "    os.mkdir(\"Monatsberichte\")"
   ]
  },
  {
   "attachments": {},
   "cell_type": "markdown",
   "id": "b92e31e8",
   "metadata": {
    "papermill": {
     "duration": 0.005241,
     "end_time": "2022-12-28T12:22:19.372979",
     "exception": false,
     "start_time": "2022-12-28T12:22:19.367738",
     "status": "completed"
    },
    "tags": []
   },
   "source": [
    "### Read Database to create DataFrame"
   ]
  },
  {
   "cell_type": "code",
   "execution_count": 62,
   "id": "630b41db",
   "metadata": {
    "papermill": {
     "duration": 0.290704,
     "end_time": "2022-12-28T12:22:19.669358",
     "exception": false,
     "start_time": "2022-12-28T12:22:19.378654",
     "status": "completed"
    },
    "tags": []
   },
   "outputs": [],
   "source": [
    "engine = sqlalchemy.create_engine('sqlite:///verivox_thg.db')\n",
    "\n",
    "with engine.connect() as conn:\n",
    "    df_raw = pd.read_sql_table('thg', conn) "
   ]
  },
  {
   "attachments": {},
   "cell_type": "markdown",
   "id": "76fcaa4a",
   "metadata": {
    "papermill": {
     "duration": 0.005432,
     "end_time": "2022-12-28T12:22:19.681588",
     "exception": false,
     "start_time": "2022-12-28T12:22:19.676156",
     "status": "completed"
    },
    "tags": []
   },
   "source": [
    "### Format date column, clean DataFrame and delete unneeded columns and flex entries"
   ]
  },
  {
   "cell_type": "code",
   "execution_count": 63,
   "id": "30223f8f",
   "metadata": {
    "papermill": {
     "duration": 0.02849,
     "end_time": "2022-12-28T12:22:19.715749",
     "exception": false,
     "start_time": "2022-12-28T12:22:19.687259",
     "status": "completed"
    },
    "tags": []
   },
   "outputs": [],
   "source": [
    "df_raw['Datum'] = pd.to_datetime(df_raw['Datum'])"
   ]
  },
  {
   "cell_type": "code",
   "execution_count": 64,
   "id": "596abe9c",
   "metadata": {
    "papermill": {
     "duration": 0.019926,
     "end_time": "2022-12-28T12:22:19.741963",
     "exception": false,
     "start_time": "2022-12-28T12:22:19.722037",
     "status": "completed"
    },
    "tags": []
   },
   "outputs": [],
   "source": [
    "import ast\n",
    "\n",
    "def extract_key_metrix(raw): # function to extract all needed values from saved raw data set\n",
    "    data_dict = ast.literal_eval(raw)\n",
    "    js_dump = json.dumps(data_dict)\n",
    "    js_load = json.loads(js_dump)\n",
    "    js_norm = pd.json_normalize(js_load)['keyMetrics'][0]\n",
    "    \n",
    "    value_list = []\n",
    "    \n",
    "    for i in js_norm:\n",
    "        i_out = ast.literal_eval(str(i))\n",
    "        # remove '<b>THG Preismodell: Fix-Prämie</b>' for better view because it's part of every entry\n",
    "        # if you run the code without \"Auszahlung\" condition you can see a few lines below that this is the main difference\n",
    "        # for a better groupby we set the condition here\n",
    "        if i_out['value'] != '<b>THG Preismodell: Fix-Prämie</b>' and \"Auszahlung \" in i_out['value']:\n",
    "            value_list.append(i_out['value'])\n",
    "\n",
    "            \n",
    "    feature = str(value_list)\n",
    "    \n",
    "    feature = feature.replace('[', '')\n",
    "    feature = feature.replace(']', '')\n",
    "    feature = feature.replace(\"'\", '')       \n",
    "    \n",
    "    return feature"
   ]
  },
  {
   "cell_type": "code",
   "execution_count": 65,
   "id": "dd439d57",
   "metadata": {},
   "outputs": [],
   "source": [
    "df_raw['Eigenschaft'] = df_raw['raw_data'].apply(extract_key_metrix)"
   ]
  },
  {
   "cell_type": "code",
   "execution_count": 66,
   "id": "7a42acfd",
   "metadata": {
    "papermill": {
     "duration": 0.023693,
     "end_time": "2022-12-28T12:22:31.274579",
     "exception": false,
     "start_time": "2022-12-28T12:22:31.250886",
     "status": "completed"
    },
    "tags": []
   },
   "outputs": [],
   "source": [
    "df_raw = df_raw[['Datum', 'Provider', 'Preis', 'Bezahlmodel', 'Eigenschaft']]"
   ]
  },
  {
   "cell_type": "code",
   "execution_count": 67,
   "id": "0694e547",
   "metadata": {
    "papermill": {
     "duration": 0.024902,
     "end_time": "2022-12-28T12:22:31.305788",
     "exception": false,
     "start_time": "2022-12-28T12:22:31.280886",
     "status": "completed"
    },
    "tags": []
   },
   "outputs": [],
   "source": [
    "df_raw.drop_duplicates(inplace=True, ignore_index=True)"
   ]
  },
  {
   "cell_type": "code",
   "execution_count": 68,
   "id": "3023ff5c",
   "metadata": {
    "papermill": {
     "duration": 0.021804,
     "end_time": "2022-12-28T12:22:31.334114",
     "exception": false,
     "start_time": "2022-12-28T12:22:31.312310",
     "status": "completed"
    },
    "tags": []
   },
   "outputs": [],
   "source": [
    "df_raw.drop(df_raw[df_raw['Bezahlmodel']=='flex'].index, axis=0, inplace=True)"
   ]
  },
  {
   "cell_type": "code",
   "execution_count": 69,
   "id": "bffbeb25",
   "metadata": {
    "papermill": {
     "duration": 0.015166,
     "end_time": "2022-12-28T12:22:31.355259",
     "exception": false,
     "start_time": "2022-12-28T12:22:31.340093",
     "status": "completed"
    },
    "tags": []
   },
   "outputs": [],
   "source": [
    "df_raw.reset_index(drop=True, inplace=True)"
   ]
  },
  {
   "attachments": {},
   "cell_type": "markdown",
   "id": "5f5fa230",
   "metadata": {},
   "source": [
    "### Clean data from daily to weekly"
   ]
  },
  {
   "cell_type": "code",
   "execution_count": 70,
   "id": "6d43fea9",
   "metadata": {},
   "outputs": [],
   "source": [
    "df_raw['KW'] = df_raw['Datum'].apply(lambda x: x.isocalendar().week)"
   ]
  },
  {
   "cell_type": "code",
   "execution_count": 71,
   "id": "a09ecd61",
   "metadata": {},
   "outputs": [],
   "source": [
    "df_raw.drop(df_raw[df_raw['KW']==52].index, inplace=True)"
   ]
  },
  {
   "cell_type": "code",
   "execution_count": 72,
   "id": "148f351d",
   "metadata": {},
   "outputs": [],
   "source": [
    "df_raw.drop_duplicates(subset=['KW', 'Eigenschaft','Provider'], keep='last', inplace=True)"
   ]
  },
  {
   "cell_type": "code",
   "execution_count": 73,
   "id": "2ffbe949-9e79-4740-9747-1cbd7423b691",
   "metadata": {},
   "outputs": [],
   "source": [
    "df_raw = df_raw[df_raw['Datum'].dt.year==2024]"
   ]
  },
  {
   "cell_type": "code",
   "execution_count": 74,
   "id": "9d735272-4471-4839-803e-c71f58cee98b",
   "metadata": {},
   "outputs": [],
   "source": [
    "# df_raw = df_raw[df_raw['KW']>=8]"
   ]
  },
  {
   "attachments": {},
   "cell_type": "markdown",
   "id": "26edd712",
   "metadata": {
    "papermill": {
     "duration": 0.005854,
     "end_time": "2022-12-28T12:22:31.367288",
     "exception": false,
     "start_time": "2022-12-28T12:22:31.361434",
     "status": "completed"
    },
    "tags": []
   },
   "source": [
    "# Unchanged providers"
   ]
  },
  {
   "cell_type": "code",
   "execution_count": 75,
   "id": "53411ed0",
   "metadata": {
    "papermill": {
     "duration": 0.032439,
     "end_time": "2022-12-28T12:22:31.405671",
     "exception": false,
     "start_time": "2022-12-28T12:22:31.373232",
     "status": "completed"
    },
    "tags": []
   },
   "outputs": [],
   "source": [
    "unchanged_provider = (df_raw.groupby(by=[\"Provider\", \"Bezahlmodel\", \"Preis\", \"Eigenschaft\"]).size().reset_index().groupby(by=['Provider', 'Bezahlmodel', 'Eigenschaft']).size()==1).to_frame().reset_index()"
   ]
  },
  {
   "cell_type": "code",
   "execution_count": 76,
   "id": "931684be",
   "metadata": {
    "papermill": {
     "duration": 0.023639,
     "end_time": "2022-12-28T12:22:31.436432",
     "exception": false,
     "start_time": "2022-12-28T12:22:31.412793",
     "status": "completed"
    },
    "tags": []
   },
   "outputs": [],
   "source": [
    "unchanged_provider = unchanged_provider[unchanged_provider[0]==True].drop(0, axis=1)"
   ]
  },
  {
   "cell_type": "code",
   "execution_count": 77,
   "id": "864b521a",
   "metadata": {
    "papermill": {
     "duration": 0.031019,
     "end_time": "2022-12-28T12:22:31.473985",
     "exception": false,
     "start_time": "2022-12-28T12:22:31.442966",
     "status": "completed"
    },
    "tags": []
   },
   "outputs": [],
   "source": [
    "df_unchanged_prices = df_raw.groupby(by=[\"Provider\", \"Bezahlmodel\", \"Preis\", 'Eigenschaft']).size().to_frame().reset_index().drop(0, axis=1)"
   ]
  },
  {
   "cell_type": "code",
   "execution_count": 78,
   "id": "06707e70",
   "metadata": {
    "papermill": {
     "duration": 0.034183,
     "end_time": "2022-12-28T12:22:31.514454",
     "exception": false,
     "start_time": "2022-12-28T12:22:31.480271",
     "status": "completed"
    },
    "tags": []
   },
   "outputs": [],
   "source": [
    "df_unchanged = pd.merge(unchanged_provider, df_unchanged_prices, how='left', left_on=['Provider', 'Bezahlmodel', 'Eigenschaft'], right_on=['Provider', 'Bezahlmodel', 'Eigenschaft'])"
   ]
  },
  {
   "cell_type": "code",
   "execution_count": 79,
   "id": "5245852d",
   "metadata": {
    "papermill": {
     "duration": 0.02443,
     "end_time": "2022-12-28T12:22:31.546751",
     "exception": false,
     "start_time": "2022-12-28T12:22:31.522321",
     "status": "completed"
    },
    "tags": []
   },
   "outputs": [],
   "source": [
    "df_unchanged.sort_values(by=['Preis'], ascending=False, inplace=True)"
   ]
  },
  {
   "cell_type": "code",
   "execution_count": 80,
   "id": "8d99e081",
   "metadata": {},
   "outputs": [],
   "source": [
    "df_unchanged = pd.merge(\n",
    "    df_unchanged,\n",
    "    df_raw,\n",
    "    how='inner',\n",
    "    on=['Provider','Preis','Bezahlmodel','Eigenschaft']\n",
    ").drop('Datum', axis=1)"
   ]
  },
  {
   "cell_type": "code",
   "execution_count": 81,
   "id": "cf85df1a",
   "metadata": {},
   "outputs": [],
   "source": [
    "df_unchanged = df_unchanged.sort_values(by=['Provider', 'Eigenschaft','KW'], ascending=True).drop_duplicates(subset=['Provider', 'Bezahlmodel', 'Eigenschaft', 'Preis'], keep='last').sort_values(by=['Preis'], ascending=False)"
   ]
  },
  {
   "cell_type": "code",
   "execution_count": 82,
   "id": "a0591e99",
   "metadata": {},
   "outputs": [],
   "source": [
    "df_unchanged.to_excel(os.path.join(\"Monatsberichte\", f\"Unveränderte Angebote_Stand {actual_month}.xlsx\"), index=None)"
   ]
  },
  {
   "attachments": {},
   "cell_type": "markdown",
   "id": "0cb3cf54",
   "metadata": {
    "papermill": {
     "duration": 0.006786,
     "end_time": "2022-12-28T12:22:31.604791",
     "exception": false,
     "start_time": "2022-12-28T12:22:31.598005",
     "status": "completed"
    },
    "tags": []
   },
   "source": [
    "# Changed providers"
   ]
  },
  {
   "cell_type": "code",
   "execution_count": 83,
   "id": "2d78ad63",
   "metadata": {
    "papermill": {
     "duration": 0.053176,
     "end_time": "2022-12-28T12:22:31.664747",
     "exception": false,
     "start_time": "2022-12-28T12:22:31.611571",
     "status": "completed"
    },
    "tags": []
   },
   "outputs": [],
   "source": [
    "df_changed = pd.merge(df_raw, df_unchanged, indicator=True, how='outer', on=['Provider', 'Bezahlmodel', 'Eigenschaft', 'Preis']).query('_merge==\"left_only\"').drop(['_merge', 'KW_y'], axis=1).rename({\"KW_x\":\"KW\"}, axis=1)"
   ]
  },
  {
   "cell_type": "code",
   "execution_count": 84,
   "id": "23bc1d24",
   "metadata": {
    "papermill": {
     "duration": 0.020386,
     "end_time": "2022-12-28T12:22:31.691720",
     "exception": false,
     "start_time": "2022-12-28T12:22:31.671334",
     "status": "completed"
    },
    "tags": []
   },
   "outputs": [],
   "source": [
    "df_changed.sort_values(by=['Datum'], inplace=True)\n",
    "\n",
    "df_changed = df_changed.reset_index(drop=True)"
   ]
  },
  {
   "cell_type": "code",
   "execution_count": 85,
   "id": "53ddf402",
   "metadata": {
    "papermill": {
     "duration": 0.017368,
     "end_time": "2022-12-28T12:22:31.716681",
     "exception": false,
     "start_time": "2022-12-28T12:22:31.699313",
     "status": "completed"
    },
    "tags": []
   },
   "outputs": [],
   "source": [
    "def define_fig_name(row):\n",
    "    model = row['Bezahlmodel']\n",
    "    label = row['Eigenschaft']\n",
    "    prov = row['Provider']\n",
    "    \n",
    "    return f\"{prov}_{model}_{label}\""
   ]
  },
  {
   "cell_type": "code",
   "execution_count": 86,
   "id": "9e9cdcae",
   "metadata": {
    "papermill": {
     "duration": 0.068154,
     "end_time": "2022-12-28T12:22:31.791378",
     "exception": false,
     "start_time": "2022-12-28T12:22:31.723224",
     "status": "completed"
    },
    "tags": []
   },
   "outputs": [],
   "source": [
    "df_changed['Neuer Name'] = df_changed.apply(define_fig_name, axis=1)"
   ]
  },
  {
   "cell_type": "code",
   "execution_count": 87,
   "id": "a3ec6b45",
   "metadata": {
    "papermill": {
     "duration": 1.568183,
     "end_time": "2022-12-28T12:22:33.365941",
     "exception": false,
     "start_time": "2022-12-28T12:22:31.797758",
     "status": "completed"
    },
    "tags": []
   },
   "outputs": [],
   "source": [
    "fig = px.line(df_changed,\n",
    "       y='Preis',\n",
    "       x='KW',\n",
    "       color='Neuer Name')"
   ]
  },
  {
   "cell_type": "code",
   "execution_count": 88,
   "id": "5f534ee3",
   "metadata": {},
   "outputs": [
    {
     "data": {
      "application/vnd.plotly.v1+json": {
       "config": {
        "plotlyServerURL": "https://plot.ly"
       },
       "data": [
        {
         "hovertemplate": "Neuer Name=OnlineFuels_fix_Auszahlung in 8 bis 12 Wochen<br>KW=%{x}<br>Preis=%{y}<extra></extra>",
         "legendgroup": "OnlineFuels_fix_Auszahlung in 8 bis 12 Wochen",
         "line": {
          "color": "#636efa",
          "dash": "solid"
         },
         "marker": {
          "symbol": "circle"
         },
         "mode": "lines",
         "name": "OnlineFuels_fix_Auszahlung in 8 bis 12 Wochen",
         "orientation": "v",
         "showlegend": true,
         "type": "scatter",
         "x": [
          1,
          2,
          3,
          4,
          5,
          6,
          7,
          8,
          9
         ],
         "xaxis": "x",
         "y": [
          70,
          60,
          60,
          60,
          60,
          60,
          50,
          50,
          45
         ],
         "yaxis": "y"
        },
        {
         "hovertemplate": "Neuer Name=Quotlix_fix_Auszahlung in 8 bis 12 Wochen<br>KW=%{x}<br>Preis=%{y}<extra></extra>",
         "legendgroup": "Quotlix_fix_Auszahlung in 8 bis 12 Wochen",
         "line": {
          "color": "#EF553B",
          "dash": "solid"
         },
         "marker": {
          "symbol": "circle"
         },
         "mode": "lines",
         "name": "Quotlix_fix_Auszahlung in 8 bis 12 Wochen",
         "orientation": "v",
         "showlegend": true,
         "type": "scatter",
         "x": [
          1,
          2,
          4,
          5,
          6,
          7,
          8,
          9
         ],
         "xaxis": "x",
         "y": [
          60,
          60,
          75,
          75,
          75,
          75,
          75,
          75
         ],
         "yaxis": "y"
        },
        {
         "hovertemplate": "Neuer Name=Maschinenring_fix_Auszahlung in 8 bis 12 Wochen<br>KW=%{x}<br>Preis=%{y}<extra></extra>",
         "legendgroup": "Maschinenring_fix_Auszahlung in 8 bis 12 Wochen",
         "line": {
          "color": "#00cc96",
          "dash": "solid"
         },
         "marker": {
          "symbol": "circle"
         },
         "mode": "lines",
         "name": "Maschinenring_fix_Auszahlung in 8 bis 12 Wochen",
         "orientation": "v",
         "showlegend": true,
         "type": "scatter",
         "x": [
          1,
          2,
          3,
          4,
          5,
          6,
          7,
          8,
          9
         ],
         "xaxis": "x",
         "y": [
          80,
          80,
          80,
          80,
          80,
          80,
          80,
          65,
          65
         ],
         "yaxis": "y"
        },
        {
         "hovertemplate": "Neuer Name=mygreencashback_fix_Auszahlung in 8 bis 12 Wochen<br>KW=%{x}<br>Preis=%{y}<extra></extra>",
         "legendgroup": "mygreencashback_fix_Auszahlung in 8 bis 12 Wochen",
         "line": {
          "color": "#ab63fa",
          "dash": "solid"
         },
         "marker": {
          "symbol": "circle"
         },
         "mode": "lines",
         "name": "mygreencashback_fix_Auszahlung in 8 bis 12 Wochen",
         "orientation": "v",
         "showlegend": true,
         "type": "scatter",
         "x": [
          1,
          2,
          3,
          4,
          5,
          6,
          7,
          8,
          9
         ],
         "xaxis": "x",
         "y": [
          80,
          85,
          85,
          85,
          85,
          70,
          75,
          75,
          75
         ],
         "yaxis": "y"
        },
        {
         "hovertemplate": "Neuer Name=emobility.energy_fix_Auszahlung in 14 bis 16 Wochen<br>KW=%{x}<br>Preis=%{y}<extra></extra>",
         "legendgroup": "emobility.energy_fix_Auszahlung in 14 bis 16 Wochen",
         "line": {
          "color": "#FFA15A",
          "dash": "solid"
         },
         "marker": {
          "symbol": "circle"
         },
         "mode": "lines",
         "name": "emobility.energy_fix_Auszahlung in 14 bis 16 Wochen",
         "orientation": "v",
         "showlegend": true,
         "type": "scatter",
         "x": [
          1,
          2,
          3,
          4,
          5,
          6,
          7,
          8,
          9
         ],
         "xaxis": "x",
         "y": [
          100,
          85,
          85,
          85,
          85,
          85,
          85,
          85,
          85
         ],
         "yaxis": "y"
        },
        {
         "hovertemplate": "Neuer Name=Knauber_fix_Auszahlung in 4 bis 6 Wochen<br>KW=%{x}<br>Preis=%{y}<extra></extra>",
         "legendgroup": "Knauber_fix_Auszahlung in 4 bis 6 Wochen",
         "line": {
          "color": "#19d3f3",
          "dash": "solid"
         },
         "marker": {
          "symbol": "circle"
         },
         "mode": "lines",
         "name": "Knauber_fix_Auszahlung in 4 bis 6 Wochen",
         "orientation": "v",
         "showlegend": true,
         "type": "scatter",
         "x": [
          1,
          2,
          3,
          4,
          5,
          6,
          7,
          8,
          9
         ],
         "xaxis": "x",
         "y": [
          110,
          95,
          95,
          95,
          95,
          85,
          85,
          85,
          85
         ],
         "yaxis": "y"
        },
        {
         "hovertemplate": "Neuer Name=Hoyer_fix_Auszahlung in 8 bis 12 Wochen<br>KW=%{x}<br>Preis=%{y}<extra></extra>",
         "legendgroup": "Hoyer_fix_Auszahlung in 8 bis 12 Wochen",
         "line": {
          "color": "#FF6692",
          "dash": "solid"
         },
         "marker": {
          "symbol": "circle"
         },
         "mode": "lines",
         "name": "Hoyer_fix_Auszahlung in 8 bis 12 Wochen",
         "orientation": "v",
         "showlegend": true,
         "type": "scatter",
         "x": [
          1,
          2,
          3,
          4,
          5,
          6,
          7,
          8,
          9
         ],
         "xaxis": "x",
         "y": [
          80,
          65,
          65,
          65,
          65,
          65,
          65,
          65,
          65
         ],
         "yaxis": "y"
        },
        {
         "hovertemplate": "Neuer Name=JUCIFY_fix_Auszahlung in 3 Tagen<br>KW=%{x}<br>Preis=%{y}<extra></extra>",
         "legendgroup": "JUCIFY_fix_Auszahlung in 3 Tagen",
         "line": {
          "color": "#B6E880",
          "dash": "solid"
         },
         "marker": {
          "symbol": "circle"
         },
         "mode": "lines",
         "name": "JUCIFY_fix_Auszahlung in 3 Tagen",
         "orientation": "v",
         "showlegend": true,
         "type": "scatter",
         "x": [
          1,
          2,
          3,
          4,
          5,
          6,
          7,
          8,
          9
         ],
         "xaxis": "x",
         "y": [
          90,
          75,
          75,
          75,
          75,
          75,
          75,
          60,
          60
         ],
         "yaxis": "y"
        },
        {
         "hovertemplate": "Neuer Name=M3E_fix_Auszahlung in 8 bis 12 Wochen<br>KW=%{x}<br>Preis=%{y}<extra></extra>",
         "legendgroup": "M3E_fix_Auszahlung in 8 bis 12 Wochen",
         "line": {
          "color": "#FF97FF",
          "dash": "solid"
         },
         "marker": {
          "symbol": "circle"
         },
         "mode": "lines",
         "name": "M3E_fix_Auszahlung in 8 bis 12 Wochen",
         "orientation": "v",
         "showlegend": true,
         "type": "scatter",
         "x": [
          3,
          4,
          5,
          6,
          7
         ],
         "xaxis": "x",
         "y": [
          75,
          75,
          75,
          76,
          76
         ],
         "yaxis": "y"
        }
       ],
       "layout": {
        "legend": {
         "title": {},
         "tracegroupgap": 0
        },
        "margin": {
         "t": 60
        },
        "template": {
         "data": {
          "bar": [
           {
            "error_x": {
             "color": "#2a3f5f"
            },
            "error_y": {
             "color": "#2a3f5f"
            },
            "marker": {
             "line": {
              "color": "#E5ECF6",
              "width": 0.5
             },
             "pattern": {
              "fillmode": "overlay",
              "size": 10,
              "solidity": 0.2
             }
            },
            "type": "bar"
           }
          ],
          "barpolar": [
           {
            "marker": {
             "line": {
              "color": "#E5ECF6",
              "width": 0.5
             },
             "pattern": {
              "fillmode": "overlay",
              "size": 10,
              "solidity": 0.2
             }
            },
            "type": "barpolar"
           }
          ],
          "carpet": [
           {
            "aaxis": {
             "endlinecolor": "#2a3f5f",
             "gridcolor": "white",
             "linecolor": "white",
             "minorgridcolor": "white",
             "startlinecolor": "#2a3f5f"
            },
            "baxis": {
             "endlinecolor": "#2a3f5f",
             "gridcolor": "white",
             "linecolor": "white",
             "minorgridcolor": "white",
             "startlinecolor": "#2a3f5f"
            },
            "type": "carpet"
           }
          ],
          "choropleth": [
           {
            "colorbar": {
             "outlinewidth": 0,
             "ticks": ""
            },
            "type": "choropleth"
           }
          ],
          "contour": [
           {
            "colorbar": {
             "outlinewidth": 0,
             "ticks": ""
            },
            "colorscale": [
             [
              0,
              "#0d0887"
             ],
             [
              0.1111111111111111,
              "#46039f"
             ],
             [
              0.2222222222222222,
              "#7201a8"
             ],
             [
              0.3333333333333333,
              "#9c179e"
             ],
             [
              0.4444444444444444,
              "#bd3786"
             ],
             [
              0.5555555555555556,
              "#d8576b"
             ],
             [
              0.6666666666666666,
              "#ed7953"
             ],
             [
              0.7777777777777778,
              "#fb9f3a"
             ],
             [
              0.8888888888888888,
              "#fdca26"
             ],
             [
              1,
              "#f0f921"
             ]
            ],
            "type": "contour"
           }
          ],
          "contourcarpet": [
           {
            "colorbar": {
             "outlinewidth": 0,
             "ticks": ""
            },
            "type": "contourcarpet"
           }
          ],
          "heatmap": [
           {
            "colorbar": {
             "outlinewidth": 0,
             "ticks": ""
            },
            "colorscale": [
             [
              0,
              "#0d0887"
             ],
             [
              0.1111111111111111,
              "#46039f"
             ],
             [
              0.2222222222222222,
              "#7201a8"
             ],
             [
              0.3333333333333333,
              "#9c179e"
             ],
             [
              0.4444444444444444,
              "#bd3786"
             ],
             [
              0.5555555555555556,
              "#d8576b"
             ],
             [
              0.6666666666666666,
              "#ed7953"
             ],
             [
              0.7777777777777778,
              "#fb9f3a"
             ],
             [
              0.8888888888888888,
              "#fdca26"
             ],
             [
              1,
              "#f0f921"
             ]
            ],
            "type": "heatmap"
           }
          ],
          "heatmapgl": [
           {
            "colorbar": {
             "outlinewidth": 0,
             "ticks": ""
            },
            "colorscale": [
             [
              0,
              "#0d0887"
             ],
             [
              0.1111111111111111,
              "#46039f"
             ],
             [
              0.2222222222222222,
              "#7201a8"
             ],
             [
              0.3333333333333333,
              "#9c179e"
             ],
             [
              0.4444444444444444,
              "#bd3786"
             ],
             [
              0.5555555555555556,
              "#d8576b"
             ],
             [
              0.6666666666666666,
              "#ed7953"
             ],
             [
              0.7777777777777778,
              "#fb9f3a"
             ],
             [
              0.8888888888888888,
              "#fdca26"
             ],
             [
              1,
              "#f0f921"
             ]
            ],
            "type": "heatmapgl"
           }
          ],
          "histogram": [
           {
            "marker": {
             "pattern": {
              "fillmode": "overlay",
              "size": 10,
              "solidity": 0.2
             }
            },
            "type": "histogram"
           }
          ],
          "histogram2d": [
           {
            "colorbar": {
             "outlinewidth": 0,
             "ticks": ""
            },
            "colorscale": [
             [
              0,
              "#0d0887"
             ],
             [
              0.1111111111111111,
              "#46039f"
             ],
             [
              0.2222222222222222,
              "#7201a8"
             ],
             [
              0.3333333333333333,
              "#9c179e"
             ],
             [
              0.4444444444444444,
              "#bd3786"
             ],
             [
              0.5555555555555556,
              "#d8576b"
             ],
             [
              0.6666666666666666,
              "#ed7953"
             ],
             [
              0.7777777777777778,
              "#fb9f3a"
             ],
             [
              0.8888888888888888,
              "#fdca26"
             ],
             [
              1,
              "#f0f921"
             ]
            ],
            "type": "histogram2d"
           }
          ],
          "histogram2dcontour": [
           {
            "colorbar": {
             "outlinewidth": 0,
             "ticks": ""
            },
            "colorscale": [
             [
              0,
              "#0d0887"
             ],
             [
              0.1111111111111111,
              "#46039f"
             ],
             [
              0.2222222222222222,
              "#7201a8"
             ],
             [
              0.3333333333333333,
              "#9c179e"
             ],
             [
              0.4444444444444444,
              "#bd3786"
             ],
             [
              0.5555555555555556,
              "#d8576b"
             ],
             [
              0.6666666666666666,
              "#ed7953"
             ],
             [
              0.7777777777777778,
              "#fb9f3a"
             ],
             [
              0.8888888888888888,
              "#fdca26"
             ],
             [
              1,
              "#f0f921"
             ]
            ],
            "type": "histogram2dcontour"
           }
          ],
          "mesh3d": [
           {
            "colorbar": {
             "outlinewidth": 0,
             "ticks": ""
            },
            "type": "mesh3d"
           }
          ],
          "parcoords": [
           {
            "line": {
             "colorbar": {
              "outlinewidth": 0,
              "ticks": ""
             }
            },
            "type": "parcoords"
           }
          ],
          "pie": [
           {
            "automargin": true,
            "type": "pie"
           }
          ],
          "scatter": [
           {
            "fillpattern": {
             "fillmode": "overlay",
             "size": 10,
             "solidity": 0.2
            },
            "type": "scatter"
           }
          ],
          "scatter3d": [
           {
            "line": {
             "colorbar": {
              "outlinewidth": 0,
              "ticks": ""
             }
            },
            "marker": {
             "colorbar": {
              "outlinewidth": 0,
              "ticks": ""
             }
            },
            "type": "scatter3d"
           }
          ],
          "scattercarpet": [
           {
            "marker": {
             "colorbar": {
              "outlinewidth": 0,
              "ticks": ""
             }
            },
            "type": "scattercarpet"
           }
          ],
          "scattergeo": [
           {
            "marker": {
             "colorbar": {
              "outlinewidth": 0,
              "ticks": ""
             }
            },
            "type": "scattergeo"
           }
          ],
          "scattergl": [
           {
            "marker": {
             "colorbar": {
              "outlinewidth": 0,
              "ticks": ""
             }
            },
            "type": "scattergl"
           }
          ],
          "scattermapbox": [
           {
            "marker": {
             "colorbar": {
              "outlinewidth": 0,
              "ticks": ""
             }
            },
            "type": "scattermapbox"
           }
          ],
          "scatterpolar": [
           {
            "marker": {
             "colorbar": {
              "outlinewidth": 0,
              "ticks": ""
             }
            },
            "type": "scatterpolar"
           }
          ],
          "scatterpolargl": [
           {
            "marker": {
             "colorbar": {
              "outlinewidth": 0,
              "ticks": ""
             }
            },
            "type": "scatterpolargl"
           }
          ],
          "scatterternary": [
           {
            "marker": {
             "colorbar": {
              "outlinewidth": 0,
              "ticks": ""
             }
            },
            "type": "scatterternary"
           }
          ],
          "surface": [
           {
            "colorbar": {
             "outlinewidth": 0,
             "ticks": ""
            },
            "colorscale": [
             [
              0,
              "#0d0887"
             ],
             [
              0.1111111111111111,
              "#46039f"
             ],
             [
              0.2222222222222222,
              "#7201a8"
             ],
             [
              0.3333333333333333,
              "#9c179e"
             ],
             [
              0.4444444444444444,
              "#bd3786"
             ],
             [
              0.5555555555555556,
              "#d8576b"
             ],
             [
              0.6666666666666666,
              "#ed7953"
             ],
             [
              0.7777777777777778,
              "#fb9f3a"
             ],
             [
              0.8888888888888888,
              "#fdca26"
             ],
             [
              1,
              "#f0f921"
             ]
            ],
            "type": "surface"
           }
          ],
          "table": [
           {
            "cells": {
             "fill": {
              "color": "#EBF0F8"
             },
             "line": {
              "color": "white"
             }
            },
            "header": {
             "fill": {
              "color": "#C8D4E3"
             },
             "line": {
              "color": "white"
             }
            },
            "type": "table"
           }
          ]
         },
         "layout": {
          "annotationdefaults": {
           "arrowcolor": "#2a3f5f",
           "arrowhead": 0,
           "arrowwidth": 1
          },
          "autotypenumbers": "strict",
          "coloraxis": {
           "colorbar": {
            "outlinewidth": 0,
            "ticks": ""
           }
          },
          "colorscale": {
           "diverging": [
            [
             0,
             "#8e0152"
            ],
            [
             0.1,
             "#c51b7d"
            ],
            [
             0.2,
             "#de77ae"
            ],
            [
             0.3,
             "#f1b6da"
            ],
            [
             0.4,
             "#fde0ef"
            ],
            [
             0.5,
             "#f7f7f7"
            ],
            [
             0.6,
             "#e6f5d0"
            ],
            [
             0.7,
             "#b8e186"
            ],
            [
             0.8,
             "#7fbc41"
            ],
            [
             0.9,
             "#4d9221"
            ],
            [
             1,
             "#276419"
            ]
           ],
           "sequential": [
            [
             0,
             "#0d0887"
            ],
            [
             0.1111111111111111,
             "#46039f"
            ],
            [
             0.2222222222222222,
             "#7201a8"
            ],
            [
             0.3333333333333333,
             "#9c179e"
            ],
            [
             0.4444444444444444,
             "#bd3786"
            ],
            [
             0.5555555555555556,
             "#d8576b"
            ],
            [
             0.6666666666666666,
             "#ed7953"
            ],
            [
             0.7777777777777778,
             "#fb9f3a"
            ],
            [
             0.8888888888888888,
             "#fdca26"
            ],
            [
             1,
             "#f0f921"
            ]
           ],
           "sequentialminus": [
            [
             0,
             "#0d0887"
            ],
            [
             0.1111111111111111,
             "#46039f"
            ],
            [
             0.2222222222222222,
             "#7201a8"
            ],
            [
             0.3333333333333333,
             "#9c179e"
            ],
            [
             0.4444444444444444,
             "#bd3786"
            ],
            [
             0.5555555555555556,
             "#d8576b"
            ],
            [
             0.6666666666666666,
             "#ed7953"
            ],
            [
             0.7777777777777778,
             "#fb9f3a"
            ],
            [
             0.8888888888888888,
             "#fdca26"
            ],
            [
             1,
             "#f0f921"
            ]
           ]
          },
          "colorway": [
           "#636efa",
           "#EF553B",
           "#00cc96",
           "#ab63fa",
           "#FFA15A",
           "#19d3f3",
           "#FF6692",
           "#B6E880",
           "#FF97FF",
           "#FECB52"
          ],
          "font": {
           "color": "#2a3f5f"
          },
          "geo": {
           "bgcolor": "white",
           "lakecolor": "white",
           "landcolor": "#E5ECF6",
           "showlakes": true,
           "showland": true,
           "subunitcolor": "white"
          },
          "hoverlabel": {
           "align": "left"
          },
          "hovermode": "closest",
          "mapbox": {
           "style": "light"
          },
          "paper_bgcolor": "white",
          "plot_bgcolor": "#E5ECF6",
          "polar": {
           "angularaxis": {
            "gridcolor": "white",
            "linecolor": "white",
            "ticks": ""
           },
           "bgcolor": "#E5ECF6",
           "radialaxis": {
            "gridcolor": "white",
            "linecolor": "white",
            "ticks": ""
           }
          },
          "scene": {
           "xaxis": {
            "backgroundcolor": "#E5ECF6",
            "gridcolor": "white",
            "gridwidth": 2,
            "linecolor": "white",
            "showbackground": true,
            "ticks": "",
            "zerolinecolor": "white"
           },
           "yaxis": {
            "backgroundcolor": "#E5ECF6",
            "gridcolor": "white",
            "gridwidth": 2,
            "linecolor": "white",
            "showbackground": true,
            "ticks": "",
            "zerolinecolor": "white"
           },
           "zaxis": {
            "backgroundcolor": "#E5ECF6",
            "gridcolor": "white",
            "gridwidth": 2,
            "linecolor": "white",
            "showbackground": true,
            "ticks": "",
            "zerolinecolor": "white"
           }
          },
          "shapedefaults": {
           "line": {
            "color": "#2a3f5f"
           }
          },
          "ternary": {
           "aaxis": {
            "gridcolor": "white",
            "linecolor": "white",
            "ticks": ""
           },
           "baxis": {
            "gridcolor": "white",
            "linecolor": "white",
            "ticks": ""
           },
           "bgcolor": "#E5ECF6",
           "caxis": {
            "gridcolor": "white",
            "linecolor": "white",
            "ticks": ""
           }
          },
          "title": {
           "x": 0.05
          },
          "xaxis": {
           "automargin": true,
           "gridcolor": "white",
           "linecolor": "white",
           "ticks": "",
           "title": {
            "standoff": 15
           },
           "zerolinecolor": "white",
           "zerolinewidth": 2
          },
          "yaxis": {
           "automargin": true,
           "gridcolor": "white",
           "linecolor": "white",
           "ticks": "",
           "title": {
            "standoff": 15
           },
           "zerolinecolor": "white",
           "zerolinewidth": 2
          }
         }
        },
        "xaxis": {
         "anchor": "y",
         "domain": [
          0,
          1
         ],
         "dtick": 1,
         "tickmode": "linear",
         "title": {
          "text": "KW"
         }
        },
        "yaxis": {
         "anchor": "x",
         "domain": [
          0,
          1
         ],
         "title": {
          "text": "Preis"
         }
        }
       }
      }
     },
     "metadata": {},
     "output_type": "display_data"
    }
   ],
   "source": [
    "fig.update_layout(xaxis=dict(tickmode='linear', dtick=1), \n",
    "                 legend_title_text=None)"
   ]
  },
  {
   "cell_type": "code",
   "execution_count": 89,
   "id": "0a94e9e1",
   "metadata": {},
   "outputs": [],
   "source": [
    "fig.write_html(os.path.join(\"Monatsberichte\", f\"Angebote Verivox mit Veränderungen_Stand {actual_month}.html\"))"
   ]
  }
 ],
 "metadata": {
  "kernelspec": {
   "display_name": "Python 3 (ipykernel)",
   "language": "python",
   "name": "python3"
  },
  "language_info": {
   "codemirror_mode": {
    "name": "ipython",
    "version": 3
   },
   "file_extension": ".py",
   "mimetype": "text/x-python",
   "name": "python",
   "nbconvert_exporter": "python",
   "pygments_lexer": "ipython3",
   "version": "3.12.0"
  },
  "papermill": {
   "default_parameters": {},
   "duration": 25.831291,
   "end_time": "2022-12-28T12:22:34.382281",
   "environment_variables": {},
   "exception": null,
   "input_path": "__notebook__.ipynb",
   "output_path": "__notebook__.ipynb",
   "parameters": {},
   "start_time": "2022-12-28T12:22:08.550990",
   "version": "2.3.4"
  }
 },
 "nbformat": 4,
 "nbformat_minor": 5
}
