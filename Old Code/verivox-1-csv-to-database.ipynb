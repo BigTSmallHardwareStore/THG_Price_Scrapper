{
 "cells": [
  {
   "cell_type": "markdown",
   "id": "5686d5b1",
   "metadata": {
    "papermill": {
     "duration": 0.002664,
     "end_time": "2022-11-27T13:12:33.774875",
     "exception": false,
     "start_time": "2022-11-27T13:12:33.772211",
     "status": "completed"
    },
    "tags": []
   },
   "source": [
    "# Integration of scraped data to the database"
   ]
  },
  {
   "cell_type": "markdown",
   "id": "98d8839b",
   "metadata": {
    "papermill": {
     "duration": 0.001651,
     "end_time": "2022-11-27T13:12:33.778607",
     "exception": false,
     "start_time": "2022-11-27T13:12:33.776956",
     "status": "completed"
    },
    "tags": []
   },
   "source": [
    "This code adds the multiple csv files created by the [scraper](https://www.kaggle.com/code/tobi4tech/verivox-0-webscraper) to a database for later analysis"
   ]
  },
  {
   "cell_type": "code",
   "execution_count": 8,
   "id": "0d194b75",
   "metadata": {
    "execution": {
     "iopub.execute_input": "2022-11-27T13:12:33.783877Z",
     "iopub.status.busy": "2022-11-27T13:12:33.783461Z",
     "iopub.status.idle": "2022-11-27T13:12:33.793411Z",
     "shell.execute_reply": "2022-11-27T13:12:33.792490Z"
    },
    "papermill": {
     "duration": 0.015225,
     "end_time": "2022-11-27T13:12:33.795648",
     "exception": false,
     "start_time": "2022-11-27T13:12:33.780423",
     "status": "completed"
    },
    "tags": []
   },
   "outputs": [],
   "source": [
    "import sqlite3\n",
    "import pandas as pd\n",
    "# import sqlalchemy\n",
    "import os\n",
    "import chardet\n"
   ]
  },
  {
   "cell_type": "code",
   "execution_count": 9,
   "id": "8319e9c1",
   "metadata": {
    "execution": {
     "iopub.execute_input": "2022-11-27T13:12:33.801682Z",
     "iopub.status.busy": "2022-11-27T13:12:33.801160Z",
     "iopub.status.idle": "2022-11-27T13:12:33.806073Z",
     "shell.execute_reply": "2022-11-27T13:12:33.805029Z"
    },
    "papermill": {
     "duration": 0.010462,
     "end_time": "2022-11-27T13:12:33.808410",
     "exception": false,
     "start_time": "2022-11-27T13:12:33.797948",
     "status": "completed"
    },
    "tags": []
   },
   "outputs": [],
   "source": [
    "try:\n",
    "    connection = sqlite3.connect('verivox_thg.db')\n",
    "except Exception as Error:\n",
    "    print(Error)\n",
    "cursor = connection.cursor()"
   ]
  },
  {
   "cell_type": "code",
   "execution_count": 10,
   "id": "469b846d",
   "metadata": {
    "execution": {
     "iopub.execute_input": "2022-11-27T13:12:33.814978Z",
     "iopub.status.busy": "2022-11-27T13:12:33.814447Z",
     "iopub.status.idle": "2022-11-27T13:12:33.835286Z",
     "shell.execute_reply": "2022-11-27T13:12:33.834451Z"
    },
    "papermill": {
     "duration": 0.026617,
     "end_time": "2022-11-27T13:12:33.837473",
     "exception": false,
     "start_time": "2022-11-27T13:12:33.810856",
     "status": "completed"
    },
    "tags": []
   },
   "outputs": [
    {
     "data": {
      "text/plain": [
       "<sqlite3.Cursor at 0x7f45046ffbc0>"
      ]
     },
     "execution_count": 10,
     "metadata": {},
     "output_type": "execute_result"
    }
   ],
   "source": [
    "cursor.execute(\n",
    "    \"\"\"\n",
    "    CREATE TABLE IF NOT EXISTS thg(\n",
    "    id INTEGER PRIMARY KEY AUTOINCREMENT,\n",
    "    Datum TEXT,\n",
    "    Uhrzeit TEXT,\n",
    "    Provider_id INTEGER,\n",
    "    Provider TEXT,\n",
    "    Preis INTEGER,\n",
    "    Bezahlmodel TEXT,\n",
    "    raw_data TEXT);   \n",
    "    \"\"\"\n",
    ")"
   ]
  },
  {
   "cell_type": "code",
   "execution_count": 11,
   "id": "c618760a",
   "metadata": {
    "execution": {
     "iopub.execute_input": "2022-11-27T13:12:33.843839Z",
     "iopub.status.busy": "2022-11-27T13:12:33.843490Z",
     "iopub.status.idle": "2022-11-27T13:12:33.848396Z",
     "shell.execute_reply": "2022-11-27T13:12:33.847260Z"
    },
    "papermill": {
     "duration": 0.010568,
     "end_time": "2022-11-27T13:12:33.850421",
     "exception": false,
     "start_time": "2022-11-27T13:12:33.839853",
     "status": "completed"
    },
    "tags": []
   },
   "outputs": [],
   "source": [
    "file_path = r\"files_to_db\""
   ]
  },
  {
   "cell_type": "code",
   "execution_count": 12,
   "id": "1b19c691",
   "metadata": {
    "execution": {
     "iopub.execute_input": "2022-11-27T13:12:33.857495Z",
     "iopub.status.busy": "2022-11-27T13:12:33.856933Z",
     "iopub.status.idle": "2022-11-27T13:12:33.911921Z",
     "shell.execute_reply": "2022-11-27T13:12:33.910370Z"
    },
    "papermill": {
     "duration": 0.06074,
     "end_time": "2022-11-27T13:12:33.913770",
     "exception": true,
     "start_time": "2022-11-27T13:12:33.853030",
     "status": "failed"
    },
    "tags": []
   },
   "outputs": [],
   "source": [
    "if os.path.exists(os.path.join(file_path)):\n",
    "    for file in os.listdir(file_path):\n",
    "        with open(os.path.join(file_path, file), 'rb') as f:\n",
    "            detection = chardet.detect(f.read())\n",
    "\n",
    "        try:\n",
    "            data = pd.read_csv(os.path.join(file_path, file), encoding=detection['encoding'])\n",
    "            data.to_sql('thg', connection, if_exists='append', index = False)\n",
    "            os.remove(os.path.join(file_path, file))\n",
    "        except Exception as e:\n",
    "            print(e)\n",
    "            continue"
   ]
  },
  {
   "cell_type": "code",
   "execution_count": 13,
   "id": "2cdb5c33",
   "metadata": {
    "papermill": {
     "duration": null,
     "end_time": null,
     "exception": null,
     "start_time": null,
     "status": "pending"
    },
    "tags": []
   },
   "outputs": [],
   "source": [
    "connection.commit()\n",
    "connection.close()"
   ]
  }
 ],
 "metadata": {
  "kernelspec": {
   "display_name": "Python 3",
   "language": "python",
   "name": "python3"
  },
  "language_info": {
   "codemirror_mode": {
    "name": "ipython",
    "version": 3
   },
   "file_extension": ".py",
   "mimetype": "text/x-python",
   "name": "python",
   "nbconvert_exporter": "python",
   "pygments_lexer": "ipython3",
   "version": "3.12.0"
  },
  "papermill": {
   "default_parameters": {},
   "duration": 8.33169,
   "end_time": "2022-11-27T13:12:34.538800",
   "environment_variables": {},
   "exception": true,
   "input_path": "__notebook__.ipynb",
   "output_path": "__notebook__.ipynb",
   "parameters": {},
   "start_time": "2022-11-27T13:12:26.207110",
   "version": "2.3.4"
  }
 },
 "nbformat": 4,
 "nbformat_minor": 5
}
