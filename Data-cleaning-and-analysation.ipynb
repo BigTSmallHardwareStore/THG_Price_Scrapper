{
 "cells": [
  {
   "attachments": {},
   "cell_type": "markdown",
   "id": "ceaa09f8",
   "metadata": {
    "papermill": {
     "duration": 0.007353,
     "end_time": "2022-12-28T12:22:17.679294",
     "exception": false,
     "start_time": "2022-12-28T12:22:17.671941",
     "status": "completed"
    },
    "tags": []
   },
   "source": [
    "# Data Cleaning and analysation of the German GHG quota"
   ]
  },
  {
   "attachments": {},
   "cell_type": "markdown",
   "id": "f197c5fe",
   "metadata": {
    "papermill": {
     "duration": 0.006125,
     "end_time": "2022-12-28T12:22:17.691977",
     "exception": false,
     "start_time": "2022-12-28T12:22:17.685852",
     "status": "completed"
    },
    "tags": []
   },
   "source": [
    "The last notebook deals with data cleaning and analysis of the scraped data.\n",
    "\n",
    "The analysis is divided into providers that did not change their prices and those that did.\n",
    "\n",
    "If you have a suggestion for improvement, please let me know."
   ]
  },
  {
   "cell_type": "code",
   "execution_count": 47,
   "id": "d2b6d5cf",
   "metadata": {
    "papermill": {
     "duration": 1.663648,
     "end_time": "2022-12-28T12:22:19.361860",
     "exception": false,
     "start_time": "2022-12-28T12:22:17.698212",
     "status": "completed"
    },
    "tags": []
   },
   "outputs": [],
   "source": [
    "import pandas as pd\n",
    "import numpy as np\n",
    "import plotly.express as px\n",
    "import sqlalchemy\n",
    "import ast\n",
    "import json\n",
    "import warnings\n",
    "warnings.filterwarnings('ignore')\n",
    "import datetime\n",
    "import os"
   ]
  },
  {
   "cell_type": "code",
   "execution_count": 48,
   "id": "a85fda5f",
   "metadata": {},
   "outputs": [],
   "source": [
    "actual_month = datetime.datetime.today().strftime('%B')"
   ]
  },
  {
   "cell_type": "code",
   "execution_count": 49,
   "id": "0d896689",
   "metadata": {},
   "outputs": [],
   "source": [
    "if not os.path.exists(\"Monatsberichte\"):\n",
    "    os.mkdir(\"Monatsberichte\")"
   ]
  },
  {
   "attachments": {},
   "cell_type": "markdown",
   "id": "b92e31e8",
   "metadata": {
    "papermill": {
     "duration": 0.005241,
     "end_time": "2022-12-28T12:22:19.372979",
     "exception": false,
     "start_time": "2022-12-28T12:22:19.367738",
     "status": "completed"
    },
    "tags": []
   },
   "source": [
    "### Read Database to create DataFrame"
   ]
  },
  {
   "cell_type": "code",
   "execution_count": 50,
   "id": "630b41db",
   "metadata": {
    "papermill": {
     "duration": 0.290704,
     "end_time": "2022-12-28T12:22:19.669358",
     "exception": false,
     "start_time": "2022-12-28T12:22:19.378654",
     "status": "completed"
    },
    "tags": []
   },
   "outputs": [],
   "source": [
    "engine = sqlalchemy.create_engine('sqlite:///verivox_thg.db')\n",
    "\n",
    "with engine.connect() as connection:\n",
    "    result = connection.execute(sqlalchemy.text(\"\"\"\n",
    "                                                SELECT * \n",
    "                                                FROM thg\n",
    "                                                WHERE Datum >= 2024 AND Bezahlmodel != 'fix';\n",
    "                                                \"\"\"))\n",
    "    df_raw = pd.DataFrame(result)"
   ]
  },
  {
   "cell_type": "code",
   "execution_count": 51,
   "id": "84a947fc",
   "metadata": {},
   "outputs": [
    {
     "data": {
      "text/html": [
       "<div>\n",
       "<style scoped>\n",
       "    .dataframe tbody tr th:only-of-type {\n",
       "        vertical-align: middle;\n",
       "    }\n",
       "\n",
       "    .dataframe tbody tr th {\n",
       "        vertical-align: top;\n",
       "    }\n",
       "\n",
       "    .dataframe thead th {\n",
       "        text-align: right;\n",
       "    }\n",
       "</style>\n",
       "<table border=\"1\" class=\"dataframe\">\n",
       "  <thead>\n",
       "    <tr style=\"text-align: right;\">\n",
       "      <th></th>\n",
       "      <th>id</th>\n",
       "      <th>Datum</th>\n",
       "      <th>Uhrzeit</th>\n",
       "      <th>Provider_id</th>\n",
       "      <th>Provider</th>\n",
       "      <th>Preis</th>\n",
       "      <th>Bezahlmodel</th>\n",
       "      <th>Eigenschaft</th>\n",
       "      <th>raw_data</th>\n",
       "    </tr>\n",
       "  </thead>\n",
       "  <tbody>\n",
       "    <tr>\n",
       "      <th>0</th>\n",
       "      <td>23568</td>\n",
       "      <td>2024-01-01</td>\n",
       "      <td>00:00</td>\n",
       "      <td>67516</td>\n",
       "      <td>Elektrovorteil</td>\n",
       "      <td>102</td>\n",
       "      <td>fixflex</td>\n",
       "      <td>Auszahlung in 8 bis 12 Wochen</td>\n",
       "      <td>{\"id\": \"62baffaaaa755\", \"type\": \"offerBox\", \"p...</td>\n",
       "    </tr>\n",
       "    <tr>\n",
       "      <th>1</th>\n",
       "      <td>23569</td>\n",
       "      <td>2024-01-01</td>\n",
       "      <td>00:00</td>\n",
       "      <td>67530</td>\n",
       "      <td>Geld für E-Auto</td>\n",
       "      <td>0</td>\n",
       "      <td>flex</td>\n",
       "      <td>Auszahlung in 8 bis 12 Wochen</td>\n",
       "      <td>{\"id\": \"62bbd6e752f30\", \"type\": \"offerBox\", \"p...</td>\n",
       "    </tr>\n",
       "    <tr>\n",
       "      <th>2</th>\n",
       "      <td>23574</td>\n",
       "      <td>2024-01-01</td>\n",
       "      <td>00:00</td>\n",
       "      <td>67490</td>\n",
       "      <td>emobility.energy</td>\n",
       "      <td>0</td>\n",
       "      <td>flex</td>\n",
       "      <td>Auszahlung in 8 bis 16 Wochen</td>\n",
       "      <td>{\"id\": \"63e4d7df63fac\", \"type\": \"offerBox\", \"p...</td>\n",
       "    </tr>\n",
       "    <tr>\n",
       "      <th>3</th>\n",
       "      <td>23578</td>\n",
       "      <td>2024-01-01</td>\n",
       "      <td>00:00</td>\n",
       "      <td>68334</td>\n",
       "      <td>THG-Experten</td>\n",
       "      <td>0</td>\n",
       "      <td>flex</td>\n",
       "      <td>Auszahlung in 8 bis 12 Wochen</td>\n",
       "      <td>{\"id\": \"63ef60c17c5e5\", \"type\": \"offerBox\", \"p...</td>\n",
       "    </tr>\n",
       "    <tr>\n",
       "      <th>4</th>\n",
       "      <td>23582</td>\n",
       "      <td>2024-01-01</td>\n",
       "      <td>00:00</td>\n",
       "      <td>69114</td>\n",
       "      <td>thinkmobility.green</td>\n",
       "      <td>0</td>\n",
       "      <td>flex</td>\n",
       "      <td>Auszahlung in 8 bis 16 Wochen</td>\n",
       "      <td>{\"id\": \"655f0cbd33ca2\", \"type\": \"offerBox\", \"p...</td>\n",
       "    </tr>\n",
       "    <tr>\n",
       "      <th>...</th>\n",
       "      <td>...</td>\n",
       "      <td>...</td>\n",
       "      <td>...</td>\n",
       "      <td>...</td>\n",
       "      <td>...</td>\n",
       "      <td>...</td>\n",
       "      <td>...</td>\n",
       "      <td>...</td>\n",
       "      <td>...</td>\n",
       "    </tr>\n",
       "    <tr>\n",
       "      <th>1835</th>\n",
       "      <td>28628</td>\n",
       "      <td>2024-06-30</td>\n",
       "      <td>06:11</td>\n",
       "      <td>67530</td>\n",
       "      <td>Geld für E-Auto</td>\n",
       "      <td>350</td>\n",
       "      <td>flex</td>\n",
       "      <td>Auszahlung in 8 bis 12 Wochen</td>\n",
       "      <td>{\"id\": \"62bbd6e752f30\", \"type\": \"offerBox\", \"p...</td>\n",
       "    </tr>\n",
       "    <tr>\n",
       "      <th>1836</th>\n",
       "      <td>28630</td>\n",
       "      <td>2024-06-30</td>\n",
       "      <td>06:11</td>\n",
       "      <td>67516</td>\n",
       "      <td>Elektrovorteil</td>\n",
       "      <td>100</td>\n",
       "      <td>fixflex</td>\n",
       "      <td>Auszahlung in 8 bis 12 Wochen</td>\n",
       "      <td>{\"id\": \"62baffaaaa755\", \"type\": \"offerBox\", \"p...</td>\n",
       "    </tr>\n",
       "    <tr>\n",
       "      <th>1837</th>\n",
       "      <td>28632</td>\n",
       "      <td>2024-06-30</td>\n",
       "      <td>06:11</td>\n",
       "      <td>67516</td>\n",
       "      <td>Elektrovorteil</td>\n",
       "      <td>80</td>\n",
       "      <td>direct</td>\n",
       "      <td>Auszahlung in 5 Tagen</td>\n",
       "      <td>{\"id\": \"65c08f69677cd\", \"type\": \"offerBox\", \"p...</td>\n",
       "    </tr>\n",
       "    <tr>\n",
       "      <th>1838</th>\n",
       "      <td>28633</td>\n",
       "      <td>2024-06-30</td>\n",
       "      <td>06:11</td>\n",
       "      <td>67579</td>\n",
       "      <td>wirkaufendeinethg.de</td>\n",
       "      <td>100</td>\n",
       "      <td>fixflex</td>\n",
       "      <td>Auszahlung in 8 bis 12 Wochen</td>\n",
       "      <td>{\"id\": \"63c6a8605c4c6\", \"type\": \"offerBox\", \"p...</td>\n",
       "    </tr>\n",
       "    <tr>\n",
       "      <th>1839</th>\n",
       "      <td>28634</td>\n",
       "      <td>2024-06-30</td>\n",
       "      <td>06:11</td>\n",
       "      <td>67490</td>\n",
       "      <td>emobility.energy</td>\n",
       "      <td>55</td>\n",
       "      <td>direct</td>\n",
       "      <td>Auszahlung in 2 Tagen</td>\n",
       "      <td>{\"id\": \"664db764166ed\", \"type\": \"offerBox\", \"p...</td>\n",
       "    </tr>\n",
       "  </tbody>\n",
       "</table>\n",
       "<p>1840 rows × 9 columns</p>\n",
       "</div>"
      ],
      "text/plain": [
       "         id       Datum Uhrzeit  Provider_id              Provider  Preis  \\\n",
       "0     23568  2024-01-01   00:00        67516        Elektrovorteil    102   \n",
       "1     23569  2024-01-01   00:00        67530       Geld für E-Auto      0   \n",
       "2     23574  2024-01-01   00:00        67490      emobility.energy      0   \n",
       "3     23578  2024-01-01   00:00        68334          THG-Experten      0   \n",
       "4     23582  2024-01-01   00:00        69114   thinkmobility.green      0   \n",
       "...     ...         ...     ...          ...                   ...    ...   \n",
       "1835  28628  2024-06-30   06:11        67530       Geld für E-Auto    350   \n",
       "1836  28630  2024-06-30   06:11        67516        Elektrovorteil    100   \n",
       "1837  28632  2024-06-30   06:11        67516        Elektrovorteil     80   \n",
       "1838  28633  2024-06-30   06:11        67579  wirkaufendeinethg.de    100   \n",
       "1839  28634  2024-06-30   06:11        67490      emobility.energy     55   \n",
       "\n",
       "     Bezahlmodel                    Eigenschaft  \\\n",
       "0        fixflex  Auszahlung in 8 bis 12 Wochen   \n",
       "1           flex  Auszahlung in 8 bis 12 Wochen   \n",
       "2           flex  Auszahlung in 8 bis 16 Wochen   \n",
       "3           flex  Auszahlung in 8 bis 12 Wochen   \n",
       "4           flex  Auszahlung in 8 bis 16 Wochen   \n",
       "...          ...                            ...   \n",
       "1835        flex  Auszahlung in 8 bis 12 Wochen   \n",
       "1836     fixflex  Auszahlung in 8 bis 12 Wochen   \n",
       "1837      direct          Auszahlung in 5 Tagen   \n",
       "1838     fixflex  Auszahlung in 8 bis 12 Wochen   \n",
       "1839      direct          Auszahlung in 2 Tagen   \n",
       "\n",
       "                                               raw_data  \n",
       "0     {\"id\": \"62baffaaaa755\", \"type\": \"offerBox\", \"p...  \n",
       "1     {\"id\": \"62bbd6e752f30\", \"type\": \"offerBox\", \"p...  \n",
       "2     {\"id\": \"63e4d7df63fac\", \"type\": \"offerBox\", \"p...  \n",
       "3     {\"id\": \"63ef60c17c5e5\", \"type\": \"offerBox\", \"p...  \n",
       "4     {\"id\": \"655f0cbd33ca2\", \"type\": \"offerBox\", \"p...  \n",
       "...                                                 ...  \n",
       "1835  {\"id\": \"62bbd6e752f30\", \"type\": \"offerBox\", \"p...  \n",
       "1836  {\"id\": \"62baffaaaa755\", \"type\": \"offerBox\", \"p...  \n",
       "1837  {\"id\": \"65c08f69677cd\", \"type\": \"offerBox\", \"p...  \n",
       "1838  {\"id\": \"63c6a8605c4c6\", \"type\": \"offerBox\", \"p...  \n",
       "1839  {\"id\": \"664db764166ed\", \"type\": \"offerBox\", \"p...  \n",
       "\n",
       "[1840 rows x 9 columns]"
      ]
     },
     "execution_count": 51,
     "metadata": {},
     "output_type": "execute_result"
    }
   ],
   "source": [
    "df_raw"
   ]
  },
  {
   "attachments": {},
   "cell_type": "markdown",
   "id": "76fcaa4a",
   "metadata": {
    "papermill": {
     "duration": 0.005432,
     "end_time": "2022-12-28T12:22:19.681588",
     "exception": false,
     "start_time": "2022-12-28T12:22:19.676156",
     "status": "completed"
    },
    "tags": []
   },
   "source": [
    "### Format date column, clean DataFrame and delete unneeded columns and flex entries"
   ]
  },
  {
   "cell_type": "code",
   "execution_count": 52,
   "id": "30223f8f",
   "metadata": {
    "papermill": {
     "duration": 0.02849,
     "end_time": "2022-12-28T12:22:19.715749",
     "exception": false,
     "start_time": "2022-12-28T12:22:19.687259",
     "status": "completed"
    },
    "tags": []
   },
   "outputs": [],
   "source": [
    "df_raw['Datum'] = pd.to_datetime(df_raw['Datum'])"
   ]
  },
  {
   "cell_type": "code",
   "execution_count": 53,
   "id": "7a42acfd",
   "metadata": {
    "papermill": {
     "duration": 0.023693,
     "end_time": "2022-12-28T12:22:31.274579",
     "exception": false,
     "start_time": "2022-12-28T12:22:31.250886",
     "status": "completed"
    },
    "tags": []
   },
   "outputs": [],
   "source": [
    "df_raw = df_raw[['Datum', 'Provider', 'Preis', 'Bezahlmodel', 'Eigenschaft']]"
   ]
  },
  {
   "cell_type": "code",
   "execution_count": 54,
   "id": "0694e547",
   "metadata": {
    "papermill": {
     "duration": 0.024902,
     "end_time": "2022-12-28T12:22:31.305788",
     "exception": false,
     "start_time": "2022-12-28T12:22:31.280886",
     "status": "completed"
    },
    "tags": []
   },
   "outputs": [],
   "source": [
    "df_raw.drop_duplicates(inplace=True, ignore_index=True)"
   ]
  },
  {
   "cell_type": "code",
   "execution_count": 55,
   "id": "bffbeb25",
   "metadata": {
    "papermill": {
     "duration": 0.015166,
     "end_time": "2022-12-28T12:22:31.355259",
     "exception": false,
     "start_time": "2022-12-28T12:22:31.340093",
     "status": "completed"
    },
    "tags": []
   },
   "outputs": [],
   "source": [
    "df_raw.reset_index(drop=True, inplace=True)"
   ]
  },
  {
   "attachments": {},
   "cell_type": "markdown",
   "id": "5f5fa230",
   "metadata": {},
   "source": [
    "### Clean data from daily to weekly"
   ]
  },
  {
   "cell_type": "code",
   "execution_count": 56,
   "id": "6d43fea9",
   "metadata": {},
   "outputs": [],
   "source": [
    "df_raw['KW'] = df_raw['Datum'].apply(lambda x: x.isocalendar().week)"
   ]
  },
  {
   "cell_type": "code",
   "execution_count": 57,
   "id": "a09ecd61",
   "metadata": {},
   "outputs": [],
   "source": [
    "df_raw.drop(df_raw[df_raw['KW']==52].index, inplace=True)"
   ]
  },
  {
   "cell_type": "code",
   "execution_count": 58,
   "id": "148f351d",
   "metadata": {},
   "outputs": [],
   "source": [
    "df_raw.drop_duplicates(subset=['KW', 'Eigenschaft','Provider'], keep='last', inplace=True)"
   ]
  },
  {
   "attachments": {},
   "cell_type": "markdown",
   "id": "26edd712",
   "metadata": {
    "papermill": {
     "duration": 0.005854,
     "end_time": "2022-12-28T12:22:31.367288",
     "exception": false,
     "start_time": "2022-12-28T12:22:31.361434",
     "status": "completed"
    },
    "tags": []
   },
   "source": [
    "# Unchanged providers"
   ]
  },
  {
   "cell_type": "code",
   "execution_count": 59,
   "id": "53411ed0",
   "metadata": {
    "papermill": {
     "duration": 0.032439,
     "end_time": "2022-12-28T12:22:31.405671",
     "exception": false,
     "start_time": "2022-12-28T12:22:31.373232",
     "status": "completed"
    },
    "tags": []
   },
   "outputs": [],
   "source": [
    "unchanged_provider = (df_raw.groupby(by=[\"Provider\", \"Bezahlmodel\", \"Preis\", \"Eigenschaft\"]).size().reset_index().groupby(by=['Provider', 'Bezahlmodel', 'Eigenschaft']).size()==1).to_frame().reset_index()"
   ]
  },
  {
   "cell_type": "code",
   "execution_count": 60,
   "id": "931684be",
   "metadata": {
    "papermill": {
     "duration": 0.023639,
     "end_time": "2022-12-28T12:22:31.436432",
     "exception": false,
     "start_time": "2022-12-28T12:22:31.412793",
     "status": "completed"
    },
    "tags": []
   },
   "outputs": [],
   "source": [
    "unchanged_provider = unchanged_provider[unchanged_provider[0]==True].drop(0, axis=1)"
   ]
  },
  {
   "cell_type": "code",
   "execution_count": 61,
   "id": "864b521a",
   "metadata": {
    "papermill": {
     "duration": 0.031019,
     "end_time": "2022-12-28T12:22:31.473985",
     "exception": false,
     "start_time": "2022-12-28T12:22:31.442966",
     "status": "completed"
    },
    "tags": []
   },
   "outputs": [],
   "source": [
    "df_unchanged_prices = df_raw.groupby(by=[\"Provider\", \"Bezahlmodel\", \"Preis\", 'Eigenschaft']).size().to_frame().reset_index().drop(0, axis=1)"
   ]
  },
  {
   "cell_type": "code",
   "execution_count": 62,
   "id": "06707e70",
   "metadata": {
    "papermill": {
     "duration": 0.034183,
     "end_time": "2022-12-28T12:22:31.514454",
     "exception": false,
     "start_time": "2022-12-28T12:22:31.480271",
     "status": "completed"
    },
    "tags": []
   },
   "outputs": [],
   "source": [
    "df_unchanged = pd.merge(unchanged_provider, df_unchanged_prices, how='left', left_on=['Provider', 'Bezahlmodel', 'Eigenschaft'], right_on=['Provider', 'Bezahlmodel', 'Eigenschaft'])"
   ]
  },
  {
   "cell_type": "code",
   "execution_count": 63,
   "id": "5245852d",
   "metadata": {
    "papermill": {
     "duration": 0.02443,
     "end_time": "2022-12-28T12:22:31.546751",
     "exception": false,
     "start_time": "2022-12-28T12:22:31.522321",
     "status": "completed"
    },
    "tags": []
   },
   "outputs": [],
   "source": [
    "df_unchanged.sort_values(by=['Preis'], ascending=False, inplace=True)"
   ]
  },
  {
   "cell_type": "code",
   "execution_count": 64,
   "id": "8d99e081",
   "metadata": {},
   "outputs": [],
   "source": [
    "df_unchanged = pd.merge(\n",
    "    df_unchanged,\n",
    "    df_raw,\n",
    "    how='inner',\n",
    "    on=['Provider','Preis','Bezahlmodel','Eigenschaft']\n",
    ").drop('Datum', axis=1)"
   ]
  },
  {
   "cell_type": "code",
   "execution_count": 65,
   "id": "cf85df1a",
   "metadata": {},
   "outputs": [],
   "source": [
    "df_unchanged = df_unchanged.sort_values(by=['Provider', 'Eigenschaft','KW'], ascending=True).drop_duplicates(subset=['Provider', 'Bezahlmodel', 'Eigenschaft', 'Preis'], keep='last').sort_values(by=['Preis'], ascending=False)"
   ]
  },
  {
   "cell_type": "code",
   "execution_count": 66,
   "id": "a0591e99",
   "metadata": {},
   "outputs": [],
   "source": [
    "df_unchanged.to_excel(os.path.join(\"Monatsberichte\", f\"Unveränderte Angebote_Stand {actual_month}.xlsx\"), index=None)"
   ]
  },
  {
   "attachments": {},
   "cell_type": "markdown",
   "id": "0cb3cf54",
   "metadata": {
    "papermill": {
     "duration": 0.006786,
     "end_time": "2022-12-28T12:22:31.604791",
     "exception": false,
     "start_time": "2022-12-28T12:22:31.598005",
     "status": "completed"
    },
    "tags": []
   },
   "source": [
    "# Changed providers"
   ]
  },
  {
   "cell_type": "code",
   "execution_count": 67,
   "id": "2d78ad63",
   "metadata": {
    "papermill": {
     "duration": 0.053176,
     "end_time": "2022-12-28T12:22:31.664747",
     "exception": false,
     "start_time": "2022-12-28T12:22:31.611571",
     "status": "completed"
    },
    "tags": []
   },
   "outputs": [],
   "source": [
    "df_changed = pd.merge(df_raw, df_unchanged, indicator=True, how='outer', on=['Provider', 'Bezahlmodel', 'Eigenschaft', 'Preis']).query('_merge==\"left_only\"').drop(['_merge', 'KW_y'], axis=1).rename({\"KW_x\":\"KW\"}, axis=1)"
   ]
  },
  {
   "cell_type": "code",
   "execution_count": 68,
   "id": "23bc1d24",
   "metadata": {
    "papermill": {
     "duration": 0.020386,
     "end_time": "2022-12-28T12:22:31.691720",
     "exception": false,
     "start_time": "2022-12-28T12:22:31.671334",
     "status": "completed"
    },
    "tags": []
   },
   "outputs": [],
   "source": [
    "df_changed.sort_values(by=['Datum'], inplace=True)\n",
    "\n",
    "df_changed = df_changed.reset_index(drop=True)"
   ]
  },
  {
   "cell_type": "code",
   "execution_count": 69,
   "id": "53ddf402",
   "metadata": {
    "papermill": {
     "duration": 0.017368,
     "end_time": "2022-12-28T12:22:31.716681",
     "exception": false,
     "start_time": "2022-12-28T12:22:31.699313",
     "status": "completed"
    },
    "tags": []
   },
   "outputs": [],
   "source": [
    "def define_fig_name(row):\n",
    "    model = row['Bezahlmodel']\n",
    "    label = row['Eigenschaft']\n",
    "    prov = row['Provider']\n",
    "    \n",
    "    return f\"{prov}_{model}_{label}\""
   ]
  },
  {
   "cell_type": "code",
   "execution_count": 70,
   "id": "9e9cdcae",
   "metadata": {
    "papermill": {
     "duration": 0.068154,
     "end_time": "2022-12-28T12:22:31.791378",
     "exception": false,
     "start_time": "2022-12-28T12:22:31.723224",
     "status": "completed"
    },
    "tags": []
   },
   "outputs": [],
   "source": [
    "df_changed['Neuer Name'] = df_changed.apply(define_fig_name, axis=1)"
   ]
  },
  {
   "cell_type": "code",
   "execution_count": 71,
   "id": "a3ec6b45",
   "metadata": {
    "papermill": {
     "duration": 1.568183,
     "end_time": "2022-12-28T12:22:33.365941",
     "exception": false,
     "start_time": "2022-12-28T12:22:31.797758",
     "status": "completed"
    },
    "tags": []
   },
   "outputs": [],
   "source": [
    "fig = px.line(df_changed,\n",
    "       y='Preis',\n",
    "       x='KW',\n",
    "       color='Neuer Name')"
   ]
  },
  {
   "cell_type": "code",
   "execution_count": 72,
   "id": "5f534ee3",
   "metadata": {},
   "outputs": [
    {
     "data": {
      "application/vnd.plotly.v1+json": {
       "config": {
        "plotlyServerURL": "https://plot.ly"
       },
       "data": [
        {
         "hovertemplate": "Neuer Name=Geld für E-Auto_flex_Auszahlung in 8 bis 12 Wochen<br>KW=%{x}<br>Preis=%{y}<extra></extra>",
         "legendgroup": "Geld für E-Auto_flex_Auszahlung in 8 bis 12 Wochen",
         "line": {
          "color": "#636efa",
          "dash": "solid"
         },
         "marker": {
          "symbol": "circle"
         },
         "mode": "lines",
         "name": "Geld für E-Auto_flex_Auszahlung in 8 bis 12 Wochen",
         "orientation": "v",
         "showlegend": true,
         "type": "scatter",
         "x": [
          1,
          2,
          3,
          4,
          5,
          6,
          7,
          8,
          9,
          10,
          11,
          12,
          13,
          14,
          15,
          16,
          17,
          18,
          19,
          20,
          21,
          22,
          23,
          24,
          25,
          26
         ],
         "xaxis": "x",
         "y": [
          0,
          0,
          0,
          0,
          0,
          0,
          0,
          0,
          0,
          0,
          0,
          0,
          0,
          0,
          0,
          0,
          0,
          0,
          350,
          350,
          350,
          350,
          350,
          350,
          350,
          350
         ],
         "yaxis": "y"
        },
        {
         "hovertemplate": "Neuer Name=THG-Experten_flex_Auszahlung in 8 bis 12 Wochen<br>KW=%{x}<br>Preis=%{y}<extra></extra>",
         "legendgroup": "THG-Experten_flex_Auszahlung in 8 bis 12 Wochen",
         "line": {
          "color": "#EF553B",
          "dash": "solid"
         },
         "marker": {
          "symbol": "circle"
         },
         "mode": "lines",
         "name": "THG-Experten_flex_Auszahlung in 8 bis 12 Wochen",
         "orientation": "v",
         "showlegend": true,
         "type": "scatter",
         "x": [
          1,
          2,
          3,
          4,
          5,
          6,
          7,
          8,
          9,
          10,
          11,
          12,
          13,
          14,
          15,
          16,
          17,
          18,
          19,
          20,
          21,
          22,
          23,
          24,
          25,
          26
         ],
         "xaxis": "x",
         "y": [
          0,
          0,
          0,
          0,
          0,
          0,
          0,
          0,
          0,
          0,
          0,
          0,
          0,
          420,
          420,
          420,
          420,
          420,
          0,
          0,
          0,
          0,
          0,
          0,
          0,
          0
         ],
         "yaxis": "y"
        },
        {
         "hovertemplate": "Neuer Name=Elektrovorteil_fixflex_Auszahlung in 8 bis 12 Wochen<br>KW=%{x}<br>Preis=%{y}<extra></extra>",
         "legendgroup": "Elektrovorteil_fixflex_Auszahlung in 8 bis 12 Wochen",
         "line": {
          "color": "#00cc96",
          "dash": "solid"
         },
         "marker": {
          "symbol": "circle"
         },
         "mode": "lines",
         "name": "Elektrovorteil_fixflex_Auszahlung in 8 bis 12 Wochen",
         "orientation": "v",
         "showlegend": true,
         "type": "scatter",
         "x": [
          1,
          2,
          3,
          4,
          6,
          9,
          11,
          12,
          13,
          17,
          18,
          19,
          20,
          21,
          22,
          23,
          24,
          25,
          26
         ],
         "xaxis": "x",
         "y": [
          102,
          102,
          102,
          102,
          102,
          102,
          102,
          102,
          102,
          98,
          98,
          98,
          98,
          98,
          100,
          100,
          100,
          100,
          100
         ],
         "yaxis": "y"
        },
        {
         "hovertemplate": "Neuer Name=emobility.energy_flex_Auszahlung in 8 bis 16 Wochen<br>KW=%{x}<br>Preis=%{y}<extra></extra>",
         "legendgroup": "emobility.energy_flex_Auszahlung in 8 bis 16 Wochen",
         "line": {
          "color": "#ab63fa",
          "dash": "solid"
         },
         "marker": {
          "symbol": "circle"
         },
         "mode": "lines",
         "name": "emobility.energy_flex_Auszahlung in 8 bis 16 Wochen",
         "orientation": "v",
         "showlegend": true,
         "type": "scatter",
         "x": [
          1,
          2,
          3,
          4,
          5,
          6,
          7,
          8,
          9,
          10,
          11,
          12,
          13,
          14,
          15,
          16,
          17,
          18,
          19,
          20,
          21,
          22,
          23,
          24,
          25,
          26
         ],
         "xaxis": "x",
         "y": [
          0,
          0,
          0,
          0,
          0,
          0,
          0,
          0,
          0,
          0,
          0,
          0,
          0,
          395,
          395,
          395,
          395,
          395,
          395,
          395,
          395,
          395,
          395,
          395,
          395,
          395
         ],
         "yaxis": "y"
        },
        {
         "hovertemplate": "Neuer Name=Elektrovorteil_flex_Auszahlung in 8 bis 12 Wochen<br>KW=%{x}<br>Preis=%{y}<extra></extra>",
         "legendgroup": "Elektrovorteil_flex_Auszahlung in 8 bis 12 Wochen",
         "line": {
          "color": "#FFA15A",
          "dash": "solid"
         },
         "marker": {
          "symbol": "circle"
         },
         "mode": "lines",
         "name": "Elektrovorteil_flex_Auszahlung in 8 bis 12 Wochen",
         "orientation": "v",
         "showlegend": true,
         "type": "scatter",
         "x": [
          5,
          7,
          8,
          10,
          14,
          15,
          16
         ],
         "xaxis": "x",
         "y": [
          0,
          0,
          0,
          0,
          360,
          360,
          360
         ],
         "yaxis": "y"
        },
        {
         "hovertemplate": "Neuer Name=wirkaufendeinethg.de_fixflex_Auszahlung in 8 bis 12 Wochen<br>KW=%{x}<br>Preis=%{y}<extra></extra>",
         "legendgroup": "wirkaufendeinethg.de_fixflex_Auszahlung in 8 bis 12 Wochen",
         "line": {
          "color": "#19d3f3",
          "dash": "solid"
         },
         "marker": {
          "symbol": "circle"
         },
         "mode": "lines",
         "name": "wirkaufendeinethg.de_fixflex_Auszahlung in 8 bis 12 Wochen",
         "orientation": "v",
         "showlegend": true,
         "type": "scatter",
         "x": [
          8,
          9,
          10,
          11,
          12,
          13,
          14,
          15,
          16,
          17,
          18,
          19,
          20,
          21,
          22,
          23,
          24,
          25,
          26
         ],
         "xaxis": "x",
         "y": [
          70,
          70,
          70,
          70,
          70,
          70,
          70,
          70,
          70,
          70,
          70,
          70,
          100,
          100,
          100,
          100,
          100,
          100,
          100
         ],
         "yaxis": "y"
        },
        {
         "hovertemplate": "Neuer Name=Carbonify_fixflex_Auszahlung in 10 bis 12 Monaten<br>KW=%{x}<br>Preis=%{y}<extra></extra>",
         "legendgroup": "Carbonify_fixflex_Auszahlung in 10 bis 12 Monaten",
         "line": {
          "color": "#FF6692",
          "dash": "solid"
         },
         "marker": {
          "symbol": "circle"
         },
         "mode": "lines",
         "name": "Carbonify_fixflex_Auszahlung in 10 bis 12 Monaten",
         "orientation": "v",
         "showlegend": true,
         "type": "scatter",
         "x": [
          12,
          13,
          14,
          15,
          16,
          17,
          18,
          19,
          20,
          21,
          22,
          23,
          24,
          25,
          26
         ],
         "xaxis": "x",
         "y": [
          105,
          105,
          105,
          105,
          105,
          105,
          105,
          100,
          100,
          100,
          100,
          100,
          100,
          90,
          90
         ],
         "yaxis": "y"
        },
        {
         "hovertemplate": "Neuer Name=Carbonify_direct_Auszahlung in 1 Woche<br>KW=%{x}<br>Preis=%{y}<extra></extra>",
         "legendgroup": "Carbonify_direct_Auszahlung in 1 Woche",
         "line": {
          "color": "#B6E880",
          "dash": "solid"
         },
         "marker": {
          "symbol": "circle"
         },
         "mode": "lines",
         "name": "Carbonify_direct_Auszahlung in 1 Woche",
         "orientation": "v",
         "showlegend": true,
         "type": "scatter",
         "x": [
          19,
          20,
          21,
          22,
          23,
          24,
          25,
          26
         ],
         "xaxis": "x",
         "y": [
          80,
          80,
          80,
          80,
          80,
          80,
          70,
          70
         ],
         "yaxis": "y"
        }
       ],
       "layout": {
        "legend": {
         "title": {},
         "tracegroupgap": 0
        },
        "margin": {
         "t": 60
        },
        "template": {
         "data": {
          "bar": [
           {
            "error_x": {
             "color": "#2a3f5f"
            },
            "error_y": {
             "color": "#2a3f5f"
            },
            "marker": {
             "line": {
              "color": "#E5ECF6",
              "width": 0.5
             },
             "pattern": {
              "fillmode": "overlay",
              "size": 10,
              "solidity": 0.2
             }
            },
            "type": "bar"
           }
          ],
          "barpolar": [
           {
            "marker": {
             "line": {
              "color": "#E5ECF6",
              "width": 0.5
             },
             "pattern": {
              "fillmode": "overlay",
              "size": 10,
              "solidity": 0.2
             }
            },
            "type": "barpolar"
           }
          ],
          "carpet": [
           {
            "aaxis": {
             "endlinecolor": "#2a3f5f",
             "gridcolor": "white",
             "linecolor": "white",
             "minorgridcolor": "white",
             "startlinecolor": "#2a3f5f"
            },
            "baxis": {
             "endlinecolor": "#2a3f5f",
             "gridcolor": "white",
             "linecolor": "white",
             "minorgridcolor": "white",
             "startlinecolor": "#2a3f5f"
            },
            "type": "carpet"
           }
          ],
          "choropleth": [
           {
            "colorbar": {
             "outlinewidth": 0,
             "ticks": ""
            },
            "type": "choropleth"
           }
          ],
          "contour": [
           {
            "colorbar": {
             "outlinewidth": 0,
             "ticks": ""
            },
            "colorscale": [
             [
              0,
              "#0d0887"
             ],
             [
              0.1111111111111111,
              "#46039f"
             ],
             [
              0.2222222222222222,
              "#7201a8"
             ],
             [
              0.3333333333333333,
              "#9c179e"
             ],
             [
              0.4444444444444444,
              "#bd3786"
             ],
             [
              0.5555555555555556,
              "#d8576b"
             ],
             [
              0.6666666666666666,
              "#ed7953"
             ],
             [
              0.7777777777777778,
              "#fb9f3a"
             ],
             [
              0.8888888888888888,
              "#fdca26"
             ],
             [
              1,
              "#f0f921"
             ]
            ],
            "type": "contour"
           }
          ],
          "contourcarpet": [
           {
            "colorbar": {
             "outlinewidth": 0,
             "ticks": ""
            },
            "type": "contourcarpet"
           }
          ],
          "heatmap": [
           {
            "colorbar": {
             "outlinewidth": 0,
             "ticks": ""
            },
            "colorscale": [
             [
              0,
              "#0d0887"
             ],
             [
              0.1111111111111111,
              "#46039f"
             ],
             [
              0.2222222222222222,
              "#7201a8"
             ],
             [
              0.3333333333333333,
              "#9c179e"
             ],
             [
              0.4444444444444444,
              "#bd3786"
             ],
             [
              0.5555555555555556,
              "#d8576b"
             ],
             [
              0.6666666666666666,
              "#ed7953"
             ],
             [
              0.7777777777777778,
              "#fb9f3a"
             ],
             [
              0.8888888888888888,
              "#fdca26"
             ],
             [
              1,
              "#f0f921"
             ]
            ],
            "type": "heatmap"
           }
          ],
          "heatmapgl": [
           {
            "colorbar": {
             "outlinewidth": 0,
             "ticks": ""
            },
            "colorscale": [
             [
              0,
              "#0d0887"
             ],
             [
              0.1111111111111111,
              "#46039f"
             ],
             [
              0.2222222222222222,
              "#7201a8"
             ],
             [
              0.3333333333333333,
              "#9c179e"
             ],
             [
              0.4444444444444444,
              "#bd3786"
             ],
             [
              0.5555555555555556,
              "#d8576b"
             ],
             [
              0.6666666666666666,
              "#ed7953"
             ],
             [
              0.7777777777777778,
              "#fb9f3a"
             ],
             [
              0.8888888888888888,
              "#fdca26"
             ],
             [
              1,
              "#f0f921"
             ]
            ],
            "type": "heatmapgl"
           }
          ],
          "histogram": [
           {
            "marker": {
             "pattern": {
              "fillmode": "overlay",
              "size": 10,
              "solidity": 0.2
             }
            },
            "type": "histogram"
           }
          ],
          "histogram2d": [
           {
            "colorbar": {
             "outlinewidth": 0,
             "ticks": ""
            },
            "colorscale": [
             [
              0,
              "#0d0887"
             ],
             [
              0.1111111111111111,
              "#46039f"
             ],
             [
              0.2222222222222222,
              "#7201a8"
             ],
             [
              0.3333333333333333,
              "#9c179e"
             ],
             [
              0.4444444444444444,
              "#bd3786"
             ],
             [
              0.5555555555555556,
              "#d8576b"
             ],
             [
              0.6666666666666666,
              "#ed7953"
             ],
             [
              0.7777777777777778,
              "#fb9f3a"
             ],
             [
              0.8888888888888888,
              "#fdca26"
             ],
             [
              1,
              "#f0f921"
             ]
            ],
            "type": "histogram2d"
           }
          ],
          "histogram2dcontour": [
           {
            "colorbar": {
             "outlinewidth": 0,
             "ticks": ""
            },
            "colorscale": [
             [
              0,
              "#0d0887"
             ],
             [
              0.1111111111111111,
              "#46039f"
             ],
             [
              0.2222222222222222,
              "#7201a8"
             ],
             [
              0.3333333333333333,
              "#9c179e"
             ],
             [
              0.4444444444444444,
              "#bd3786"
             ],
             [
              0.5555555555555556,
              "#d8576b"
             ],
             [
              0.6666666666666666,
              "#ed7953"
             ],
             [
              0.7777777777777778,
              "#fb9f3a"
             ],
             [
              0.8888888888888888,
              "#fdca26"
             ],
             [
              1,
              "#f0f921"
             ]
            ],
            "type": "histogram2dcontour"
           }
          ],
          "mesh3d": [
           {
            "colorbar": {
             "outlinewidth": 0,
             "ticks": ""
            },
            "type": "mesh3d"
           }
          ],
          "parcoords": [
           {
            "line": {
             "colorbar": {
              "outlinewidth": 0,
              "ticks": ""
             }
            },
            "type": "parcoords"
           }
          ],
          "pie": [
           {
            "automargin": true,
            "type": "pie"
           }
          ],
          "scatter": [
           {
            "fillpattern": {
             "fillmode": "overlay",
             "size": 10,
             "solidity": 0.2
            },
            "type": "scatter"
           }
          ],
          "scatter3d": [
           {
            "line": {
             "colorbar": {
              "outlinewidth": 0,
              "ticks": ""
             }
            },
            "marker": {
             "colorbar": {
              "outlinewidth": 0,
              "ticks": ""
             }
            },
            "type": "scatter3d"
           }
          ],
          "scattercarpet": [
           {
            "marker": {
             "colorbar": {
              "outlinewidth": 0,
              "ticks": ""
             }
            },
            "type": "scattercarpet"
           }
          ],
          "scattergeo": [
           {
            "marker": {
             "colorbar": {
              "outlinewidth": 0,
              "ticks": ""
             }
            },
            "type": "scattergeo"
           }
          ],
          "scattergl": [
           {
            "marker": {
             "colorbar": {
              "outlinewidth": 0,
              "ticks": ""
             }
            },
            "type": "scattergl"
           }
          ],
          "scattermapbox": [
           {
            "marker": {
             "colorbar": {
              "outlinewidth": 0,
              "ticks": ""
             }
            },
            "type": "scattermapbox"
           }
          ],
          "scatterpolar": [
           {
            "marker": {
             "colorbar": {
              "outlinewidth": 0,
              "ticks": ""
             }
            },
            "type": "scatterpolar"
           }
          ],
          "scatterpolargl": [
           {
            "marker": {
             "colorbar": {
              "outlinewidth": 0,
              "ticks": ""
             }
            },
            "type": "scatterpolargl"
           }
          ],
          "scatterternary": [
           {
            "marker": {
             "colorbar": {
              "outlinewidth": 0,
              "ticks": ""
             }
            },
            "type": "scatterternary"
           }
          ],
          "surface": [
           {
            "colorbar": {
             "outlinewidth": 0,
             "ticks": ""
            },
            "colorscale": [
             [
              0,
              "#0d0887"
             ],
             [
              0.1111111111111111,
              "#46039f"
             ],
             [
              0.2222222222222222,
              "#7201a8"
             ],
             [
              0.3333333333333333,
              "#9c179e"
             ],
             [
              0.4444444444444444,
              "#bd3786"
             ],
             [
              0.5555555555555556,
              "#d8576b"
             ],
             [
              0.6666666666666666,
              "#ed7953"
             ],
             [
              0.7777777777777778,
              "#fb9f3a"
             ],
             [
              0.8888888888888888,
              "#fdca26"
             ],
             [
              1,
              "#f0f921"
             ]
            ],
            "type": "surface"
           }
          ],
          "table": [
           {
            "cells": {
             "fill": {
              "color": "#EBF0F8"
             },
             "line": {
              "color": "white"
             }
            },
            "header": {
             "fill": {
              "color": "#C8D4E3"
             },
             "line": {
              "color": "white"
             }
            },
            "type": "table"
           }
          ]
         },
         "layout": {
          "annotationdefaults": {
           "arrowcolor": "#2a3f5f",
           "arrowhead": 0,
           "arrowwidth": 1
          },
          "autotypenumbers": "strict",
          "coloraxis": {
           "colorbar": {
            "outlinewidth": 0,
            "ticks": ""
           }
          },
          "colorscale": {
           "diverging": [
            [
             0,
             "#8e0152"
            ],
            [
             0.1,
             "#c51b7d"
            ],
            [
             0.2,
             "#de77ae"
            ],
            [
             0.3,
             "#f1b6da"
            ],
            [
             0.4,
             "#fde0ef"
            ],
            [
             0.5,
             "#f7f7f7"
            ],
            [
             0.6,
             "#e6f5d0"
            ],
            [
             0.7,
             "#b8e186"
            ],
            [
             0.8,
             "#7fbc41"
            ],
            [
             0.9,
             "#4d9221"
            ],
            [
             1,
             "#276419"
            ]
           ],
           "sequential": [
            [
             0,
             "#0d0887"
            ],
            [
             0.1111111111111111,
             "#46039f"
            ],
            [
             0.2222222222222222,
             "#7201a8"
            ],
            [
             0.3333333333333333,
             "#9c179e"
            ],
            [
             0.4444444444444444,
             "#bd3786"
            ],
            [
             0.5555555555555556,
             "#d8576b"
            ],
            [
             0.6666666666666666,
             "#ed7953"
            ],
            [
             0.7777777777777778,
             "#fb9f3a"
            ],
            [
             0.8888888888888888,
             "#fdca26"
            ],
            [
             1,
             "#f0f921"
            ]
           ],
           "sequentialminus": [
            [
             0,
             "#0d0887"
            ],
            [
             0.1111111111111111,
             "#46039f"
            ],
            [
             0.2222222222222222,
             "#7201a8"
            ],
            [
             0.3333333333333333,
             "#9c179e"
            ],
            [
             0.4444444444444444,
             "#bd3786"
            ],
            [
             0.5555555555555556,
             "#d8576b"
            ],
            [
             0.6666666666666666,
             "#ed7953"
            ],
            [
             0.7777777777777778,
             "#fb9f3a"
            ],
            [
             0.8888888888888888,
             "#fdca26"
            ],
            [
             1,
             "#f0f921"
            ]
           ]
          },
          "colorway": [
           "#636efa",
           "#EF553B",
           "#00cc96",
           "#ab63fa",
           "#FFA15A",
           "#19d3f3",
           "#FF6692",
           "#B6E880",
           "#FF97FF",
           "#FECB52"
          ],
          "font": {
           "color": "#2a3f5f"
          },
          "geo": {
           "bgcolor": "white",
           "lakecolor": "white",
           "landcolor": "#E5ECF6",
           "showlakes": true,
           "showland": true,
           "subunitcolor": "white"
          },
          "hoverlabel": {
           "align": "left"
          },
          "hovermode": "closest",
          "mapbox": {
           "style": "light"
          },
          "paper_bgcolor": "white",
          "plot_bgcolor": "#E5ECF6",
          "polar": {
           "angularaxis": {
            "gridcolor": "white",
            "linecolor": "white",
            "ticks": ""
           },
           "bgcolor": "#E5ECF6",
           "radialaxis": {
            "gridcolor": "white",
            "linecolor": "white",
            "ticks": ""
           }
          },
          "scene": {
           "xaxis": {
            "backgroundcolor": "#E5ECF6",
            "gridcolor": "white",
            "gridwidth": 2,
            "linecolor": "white",
            "showbackground": true,
            "ticks": "",
            "zerolinecolor": "white"
           },
           "yaxis": {
            "backgroundcolor": "#E5ECF6",
            "gridcolor": "white",
            "gridwidth": 2,
            "linecolor": "white",
            "showbackground": true,
            "ticks": "",
            "zerolinecolor": "white"
           },
           "zaxis": {
            "backgroundcolor": "#E5ECF6",
            "gridcolor": "white",
            "gridwidth": 2,
            "linecolor": "white",
            "showbackground": true,
            "ticks": "",
            "zerolinecolor": "white"
           }
          },
          "shapedefaults": {
           "line": {
            "color": "#2a3f5f"
           }
          },
          "ternary": {
           "aaxis": {
            "gridcolor": "white",
            "linecolor": "white",
            "ticks": ""
           },
           "baxis": {
            "gridcolor": "white",
            "linecolor": "white",
            "ticks": ""
           },
           "bgcolor": "#E5ECF6",
           "caxis": {
            "gridcolor": "white",
            "linecolor": "white",
            "ticks": ""
           }
          },
          "title": {
           "x": 0.05
          },
          "xaxis": {
           "automargin": true,
           "gridcolor": "white",
           "linecolor": "white",
           "ticks": "",
           "title": {
            "standoff": 15
           },
           "zerolinecolor": "white",
           "zerolinewidth": 2
          },
          "yaxis": {
           "automargin": true,
           "gridcolor": "white",
           "linecolor": "white",
           "ticks": "",
           "title": {
            "standoff": 15
           },
           "zerolinecolor": "white",
           "zerolinewidth": 2
          }
         }
        },
        "xaxis": {
         "anchor": "y",
         "domain": [
          0,
          1
         ],
         "dtick": 1,
         "tickmode": "linear",
         "title": {
          "text": "KW"
         }
        },
        "yaxis": {
         "anchor": "x",
         "domain": [
          0,
          1
         ],
         "title": {
          "text": "Preis"
         }
        }
       }
      }
     },
     "metadata": {},
     "output_type": "display_data"
    }
   ],
   "source": [
    "fig.update_layout(xaxis=dict(tickmode='linear', dtick=1), \n",
    "                 legend_title_text=None)"
   ]
  },
  {
   "cell_type": "code",
   "execution_count": 73,
   "id": "0a94e9e1",
   "metadata": {},
   "outputs": [],
   "source": [
    "fig.write_html(os.path.join(\"Monatsberichte\", f\"Angebote Verivox mit Veränderungen_Stand {actual_month}.html\"))"
   ]
  }
 ],
 "metadata": {
  "kernelspec": {
   "display_name": "Python 3 (ipykernel)",
   "language": "python",
   "name": "python3"
  },
  "language_info": {
   "codemirror_mode": {
    "name": "ipython",
    "version": 3
   },
   "file_extension": ".py",
   "mimetype": "text/x-python",
   "name": "python",
   "nbconvert_exporter": "python",
   "pygments_lexer": "ipython3",
   "version": "3.12.3"
  },
  "papermill": {
   "default_parameters": {},
   "duration": 25.831291,
   "end_time": "2022-12-28T12:22:34.382281",
   "environment_variables": {},
   "exception": null,
   "input_path": "__notebook__.ipynb",
   "output_path": "__notebook__.ipynb",
   "parameters": {},
   "start_time": "2022-12-28T12:22:08.550990",
   "version": "2.3.4"
  }
 },
 "nbformat": 4,
 "nbformat_minor": 5
}
